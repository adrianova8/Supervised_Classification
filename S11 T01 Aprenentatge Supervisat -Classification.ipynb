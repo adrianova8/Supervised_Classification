{
 "cells": [
  {
   "cell_type": "markdown",
   "metadata": {},
   "source": [
    "# **DATA SCIENCE ITINERARY - IT ACADEMY**"
   ]
  },
  {
   "cell_type": "markdown",
   "metadata": {},
   "source": []
  },
  {
   "cell_type": "markdown",
   "metadata": {},
   "source": [
    "# <center><b><u>Sprint 11. Supervised Classification</u></b><center>"
   ]
  },
  {
   "cell_type": "markdown",
   "metadata": {},
   "source": []
  },
  {
   "cell_type": "markdown",
   "metadata": {},
   "source": [
    "## **DATASET INFORMATION**\n",
    "\n",
    "+ According to a 2010 report made by the US Federal Aviation Administration, the economic price of domestic flight delays entails a yearly cost of 32.9 billion dollars to passengers, airlines and other parts of the economy. More than half of that amount comes from the pockets of passengers who not only lose time waiting for their planes to leave, but they also miss connecting flights, spend money on food and have to sleep on hotel rooms while they're stranded.\n",
    "\n",
    "+ The report, focusing on data from year 2007, estimated that air transportation delays put a 4 billion dollar dent in the country's gross domestic product that year The data comes from the U.S. Department of Transportation's (DOT) Bureau of Transportation Statistics (BTS). \n",
    "\n",
    "_**But, what are the causes for these delays?**_\n",
    "\n",
    "+ In order to answer this question, we are going to analyze the provided dataset, containing up to 1.936.758 different internal flights in the US for 2008.\n",
    "\n",
    "\n",
    "-----------\n",
    "\n",
    "\n",
    "\n",
    "+ **Year** 2008\n",
    "+ **Month** 1-12\n",
    "+ **DayOfMonth** 1-31\n",
    "+ **DayOfWeek** 1 (Monday) - 7 (Sunday)\n",
    "+ **DepTime** actual departure time (local, hhmm)\n",
    "+ **CRSDepTime** scheduled departure time (local, hhmm)\n",
    "+ **ArrTime** actual arrival time (local, hhmm)\n",
    "+ **CRSArrTime** scheduled arrival time (local, hhmm)\n",
    "+ **UniqueCarrier** unique carrier code\n",
    "+ **FlightNum** flight number\n",
    "+ **TailNum** plane tail number: aircraft registration, unique aircraft identifier\n",
    "+ **ActualElapsedTime** in minutes\n",
    "+ **CRSElapsedTime** in minutes\n",
    "+ **AirTime** in minutes\n",
    "+ **ArrDelay** arrival delay, in minutes: A flight is counted as \"on time\" if it operated less than 15 minutes later the scheduled time shown in the carriers' Computerized Reservations Systems (CRS).\n",
    "+ **DepDelay** departure delay, in minutes\n",
    "+ **Origin** origin IATA airport code\n",
    "+ **Dest** destination IATA airport code\n",
    "+ **Distance** in miles\n",
    "+ **TaxiIn** taxi in time, in minutes\n",
    "+ **TaxiOut** taxi out time in minutes\n",
    "+ **Cancelled** was the flight cancelled\n",
    "+ **CancellationCode** reason for cancellation (A = carrier, B = weather, C = NAS, D = security)\n",
    "+ **Diverted** 1 = yes, 0 = no\n",
    "+ **CarrierDelay** in minutes: Carrier delay is within the control of the air carrier. Examples of occurrences that may determine carrier delay are: aircraft cleaning, aircraft damage, awaiting the arrival of connecting passengers or crew, baggage, bird strike, cargo loading, catering, computer, outage-carrier equipment, crew legality (pilot or attendant rest), damage by hazardous goods, engineering inspection, fueling, handling disabled passengers, late crew, lavatory servicing, maintenance, oversales, potable water servicing, removal of unruly passenger, slow boarding or seating, stowing carry-on baggage, weight and balance delays.\n",
    "+ **WeatherDelay** in minutes: Weather delay is caused by extreme or hazardous weather conditions that are forecasted or manifest themselves on point of departure, enroute, or on point of arrival.\n",
    "+ **NASDelay** in minutes: Delay that is within the control of the National Airspace System (NAS) may include: non-extreme weather conditions, airport operations, heavy traffic volume, air traffic control, etc.\n",
    "+ **SecurityDelay** in minutes: Security delay is caused by evacuation of a terminal or concourse, re-boarding of aircraft because of security breach, inoperative screening equipment and/or long lines in excess of 29 minutes at screening areas.\n",
    "+ **LateAircraftDelay** in minutes: Arrival delay at an airport due to the late arrival of the same aircraft at a previous airport. The ripple effect of an earlier delay at downstream airports is referred to as delay propagation."
   ]
  },
  {
   "cell_type": "code",
   "execution_count": 141,
   "metadata": {},
   "outputs": [],
   "source": [
    "# Libraries and modules\n",
    "\n",
    "import numpy as np\n",
    "import pandas as pd\n",
    "import matplotlib.pyplot as plt\n",
    "import seaborn as sns\n",
    "from sklearn import metrics\n",
    "from collections import Counter\n",
    "from sklearn.preprocessing import StandardScaler\n",
    "from sklearn.model_selection import train_test_split\n",
    "from sklearn.metrics import classification_report, confusion_matrix\n",
    "from sklearn.tree import DecisionTreeClassifier\n",
    "from sklearn.dummy import DummyClassifier\n",
    "from sklearn.neighbors import KNeighborsClassifier\n",
    "from sklearn.linear_model import LogisticRegression\n",
    "import xgboost as xgb\n",
    "from sklearn.metrics import mean_squared_error\n",
    "from sklearn.model_selection import KFold\n",
    "from sklearn.model_selection import cross_val_score\n",
    "from imblearn.over_sampling import SMOTE\n",
    "from imblearn.over_sampling import BorderlineSMOTE"
   ]
  },
  {
   "cell_type": "code",
   "execution_count": 142,
   "metadata": {},
   "outputs": [
    {
     "data": {
      "text/html": [
       "<div>\n",
       "<style scoped>\n",
       "    .dataframe tbody tr th:only-of-type {\n",
       "        vertical-align: middle;\n",
       "    }\n",
       "\n",
       "    .dataframe tbody tr th {\n",
       "        vertical-align: top;\n",
       "    }\n",
       "\n",
       "    .dataframe thead th {\n",
       "        text-align: right;\n",
       "    }\n",
       "</style>\n",
       "<table border=\"1\" class=\"dataframe\">\n",
       "  <thead>\n",
       "    <tr style=\"text-align: right;\">\n",
       "      <th></th>\n",
       "      <th>FlightDate_USA</th>\n",
       "      <th>UniqueCarrier</th>\n",
       "      <th>Origin</th>\n",
       "      <th>Dest</th>\n",
       "      <th>Cancelled</th>\n",
       "      <th>Diverted</th>\n",
       "      <th>DepTime</th>\n",
       "      <th>CRSDepTime</th>\n",
       "      <th>ArrTime</th>\n",
       "      <th>CRSArrTime</th>\n",
       "      <th>FlightNum</th>\n",
       "      <th>ActualElapsedTime</th>\n",
       "      <th>CRSElapsedTime</th>\n",
       "      <th>AirTime</th>\n",
       "      <th>ArrDelay</th>\n",
       "      <th>DepDelay</th>\n",
       "      <th>Distance</th>\n",
       "      <th>CarrierDelay</th>\n",
       "      <th>WeatherDelay</th>\n",
       "      <th>NASDelay</th>\n",
       "      <th>SecurityDelay</th>\n",
       "      <th>LateAircraftDelay</th>\n",
       "    </tr>\n",
       "  </thead>\n",
       "  <tbody>\n",
       "    <tr>\n",
       "      <th>0</th>\n",
       "      <td>2008-01-03</td>\n",
       "      <td>WN</td>\n",
       "      <td>IAD</td>\n",
       "      <td>TPA</td>\n",
       "      <td>0</td>\n",
       "      <td>0</td>\n",
       "      <td>2003</td>\n",
       "      <td>1955</td>\n",
       "      <td>2211.0</td>\n",
       "      <td>2225</td>\n",
       "      <td>335</td>\n",
       "      <td>128.0</td>\n",
       "      <td>150.0</td>\n",
       "      <td>116.0</td>\n",
       "      <td>-14.0</td>\n",
       "      <td>8</td>\n",
       "      <td>810</td>\n",
       "      <td>0</td>\n",
       "      <td>0</td>\n",
       "      <td>0</td>\n",
       "      <td>0</td>\n",
       "      <td>0</td>\n",
       "    </tr>\n",
       "    <tr>\n",
       "      <th>1</th>\n",
       "      <td>2008-01-03</td>\n",
       "      <td>WN</td>\n",
       "      <td>IAD</td>\n",
       "      <td>TPA</td>\n",
       "      <td>0</td>\n",
       "      <td>0</td>\n",
       "      <td>754</td>\n",
       "      <td>735</td>\n",
       "      <td>1002.0</td>\n",
       "      <td>1000</td>\n",
       "      <td>3231</td>\n",
       "      <td>128.0</td>\n",
       "      <td>145.0</td>\n",
       "      <td>113.0</td>\n",
       "      <td>2.0</td>\n",
       "      <td>19</td>\n",
       "      <td>810</td>\n",
       "      <td>0</td>\n",
       "      <td>0</td>\n",
       "      <td>0</td>\n",
       "      <td>0</td>\n",
       "      <td>0</td>\n",
       "    </tr>\n",
       "    <tr>\n",
       "      <th>2</th>\n",
       "      <td>2008-01-03</td>\n",
       "      <td>WN</td>\n",
       "      <td>IND</td>\n",
       "      <td>BWI</td>\n",
       "      <td>0</td>\n",
       "      <td>0</td>\n",
       "      <td>628</td>\n",
       "      <td>620</td>\n",
       "      <td>804.0</td>\n",
       "      <td>750</td>\n",
       "      <td>448</td>\n",
       "      <td>96.0</td>\n",
       "      <td>90.0</td>\n",
       "      <td>76.0</td>\n",
       "      <td>14.0</td>\n",
       "      <td>8</td>\n",
       "      <td>515</td>\n",
       "      <td>0</td>\n",
       "      <td>0</td>\n",
       "      <td>0</td>\n",
       "      <td>0</td>\n",
       "      <td>0</td>\n",
       "    </tr>\n",
       "    <tr>\n",
       "      <th>3</th>\n",
       "      <td>2008-01-03</td>\n",
       "      <td>WN</td>\n",
       "      <td>IND</td>\n",
       "      <td>BWI</td>\n",
       "      <td>0</td>\n",
       "      <td>0</td>\n",
       "      <td>1829</td>\n",
       "      <td>1755</td>\n",
       "      <td>1959.0</td>\n",
       "      <td>1925</td>\n",
       "      <td>3920</td>\n",
       "      <td>90.0</td>\n",
       "      <td>90.0</td>\n",
       "      <td>77.0</td>\n",
       "      <td>34.0</td>\n",
       "      <td>34</td>\n",
       "      <td>515</td>\n",
       "      <td>2</td>\n",
       "      <td>0</td>\n",
       "      <td>0</td>\n",
       "      <td>0</td>\n",
       "      <td>32</td>\n",
       "    </tr>\n",
       "    <tr>\n",
       "      <th>4</th>\n",
       "      <td>2008-01-03</td>\n",
       "      <td>WN</td>\n",
       "      <td>IND</td>\n",
       "      <td>JAX</td>\n",
       "      <td>0</td>\n",
       "      <td>0</td>\n",
       "      <td>1940</td>\n",
       "      <td>1915</td>\n",
       "      <td>2121.0</td>\n",
       "      <td>2110</td>\n",
       "      <td>378</td>\n",
       "      <td>101.0</td>\n",
       "      <td>115.0</td>\n",
       "      <td>87.0</td>\n",
       "      <td>11.0</td>\n",
       "      <td>25</td>\n",
       "      <td>688</td>\n",
       "      <td>0</td>\n",
       "      <td>0</td>\n",
       "      <td>0</td>\n",
       "      <td>0</td>\n",
       "      <td>0</td>\n",
       "    </tr>\n",
       "  </tbody>\n",
       "</table>\n",
       "</div>"
      ],
      "text/plain": [
       "  FlightDate_USA UniqueCarrier Origin Dest  Cancelled  Diverted  DepTime  \\\n",
       "0     2008-01-03            WN    IAD  TPA          0         0     2003   \n",
       "1     2008-01-03            WN    IAD  TPA          0         0      754   \n",
       "2     2008-01-03            WN    IND  BWI          0         0      628   \n",
       "3     2008-01-03            WN    IND  BWI          0         0     1829   \n",
       "4     2008-01-03            WN    IND  JAX          0         0     1940   \n",
       "\n",
       "   CRSDepTime  ArrTime  CRSArrTime  FlightNum  ActualElapsedTime  \\\n",
       "0        1955   2211.0        2225        335              128.0   \n",
       "1         735   1002.0        1000       3231              128.0   \n",
       "2         620    804.0         750        448               96.0   \n",
       "3        1755   1959.0        1925       3920               90.0   \n",
       "4        1915   2121.0        2110        378              101.0   \n",
       "\n",
       "   CRSElapsedTime  AirTime  ArrDelay  DepDelay  Distance  CarrierDelay  \\\n",
       "0           150.0    116.0     -14.0         8       810             0   \n",
       "1           145.0    113.0       2.0        19       810             0   \n",
       "2            90.0     76.0      14.0         8       515             0   \n",
       "3            90.0     77.0      34.0        34       515             2   \n",
       "4           115.0     87.0      11.0        25       688             0   \n",
       "\n",
       "   WeatherDelay  NASDelay  SecurityDelay  LateAircraftDelay  \n",
       "0             0         0              0                  0  \n",
       "1             0         0              0                  0  \n",
       "2             0         0              0                  0  \n",
       "3             0         0              0                 32  \n",
       "4             0         0              0                  0  "
      ]
     },
     "execution_count": 142,
     "metadata": {},
     "output_type": "execute_result"
    }
   ],
   "source": [
    "# CSV. This dataset has been cleaned in the previous task and now we import it to work classifications\n",
    "\n",
    "airlines = pd.read_csv('./clean_airlines_df.csv')\n",
    "pd.set_option('display.max_columns', None)\n",
    "airlines = airlines.drop(['Unnamed: 0'], axis = 1)\n",
    "airlines.head()"
   ]
  },
  {
   "cell_type": "code",
   "execution_count": 143,
   "metadata": {},
   "outputs": [
    {
     "data": {
      "text/plain": [
       "FlightDate_USA       0.00\n",
       "UniqueCarrier        0.00\n",
       "Origin               0.00\n",
       "Dest                 0.00\n",
       "Cancelled            0.00\n",
       "Diverted             0.00\n",
       "DepTime              0.00\n",
       "CRSDepTime           0.00\n",
       "ArrTime              0.37\n",
       "CRSArrTime           0.00\n",
       "FlightNum            0.00\n",
       "ActualElapsedTime    0.43\n",
       "CRSElapsedTime       0.01\n",
       "AirTime              0.43\n",
       "ArrDelay             0.43\n",
       "DepDelay             0.00\n",
       "Distance             0.00\n",
       "CarrierDelay         0.00\n",
       "WeatherDelay         0.00\n",
       "NASDelay             0.00\n",
       "SecurityDelay        0.00\n",
       "LateAircraftDelay    0.00\n",
       "dtype: float64"
      ]
     },
     "execution_count": 143,
     "metadata": {},
     "output_type": "execute_result"
    }
   ],
   "source": [
    "# Missings\n",
    "round((airlines.isna().sum())/len(airlines)*100,2)"
   ]
  },
  {
   "cell_type": "code",
   "execution_count": 144,
   "metadata": {},
   "outputs": [
    {
     "name": "stdout",
     "output_type": "stream",
     "text": [
      "0    1936125\n",
      "1        633\n",
      "Name: Cancelled, dtype: int64 \n",
      " 0    1929004\n",
      "1       7754\n",
      "Name: Diverted, dtype: int64\n"
     ]
    }
   ],
   "source": [
    "# Diverted and cancelled variables (are the cause of our missings)\n",
    "print(airlines['Cancelled'].value_counts(), '\\n', airlines['Diverted'].value_counts())"
   ]
  },
  {
   "cell_type": "markdown",
   "metadata": {},
   "source": [
    "+ THE SUM OF **'CANCELED'** AND **'DIVERTED'** FLIGHTS GIVES US THE NUMBER OF MISSINGS FOR THE VARIABLES **'ACTUALELAPSEDTIME'**, **'AIRTIME'** AND **'ARRDELAY'**, WHERE THERE ARE NO RECORDS BECAUSE THE FLIGHTS NEVER ARRIVED AT THE DESTINATION. THEY ARE A VERY LOW PERCENTAGE OF THE SIZE OF THE DATASET (< 1%), FOR THAT REASON, WE WILL PROCEED TO ELIMINATE THEM. IF WE ELIMINATE THE MISSINGS, **CANCELED** AND **DIVERTED** VARIABLES WILL NOT HAVE ANY USE IN OUR SET AND THEREFORE WE ALSO ELIMINATE THEM."
   ]
  },
  {
   "cell_type": "code",
   "execution_count": 145,
   "metadata": {},
   "outputs": [],
   "source": [
    "# Drop NaNs\n",
    "airlines.dropna(inplace=True)\n",
    "airlines.drop(['Cancelled','Diverted'], axis = 1, inplace= True)"
   ]
  },
  {
   "cell_type": "code",
   "execution_count": 146,
   "metadata": {},
   "outputs": [
    {
     "data": {
      "text/plain": [
       "(1928371, 20)"
      ]
     },
     "execution_count": 146,
     "metadata": {},
     "output_type": "execute_result"
    }
   ],
   "source": [
    "# shape\n",
    "airlines.shape"
   ]
  },
  {
   "cell_type": "code",
   "execution_count": 147,
   "metadata": {},
   "outputs": [],
   "source": [
    "# We will reduce the dataset with a sample of 200.000\n",
    "airlines = airlines.sample(n = 200000, random_state=42)"
   ]
  },
  {
   "cell_type": "markdown",
   "metadata": {},
   "source": [
    "TO MAKE CLASSIFICATION MODELS WE WILL CREATE A CATEGORICAL VARIABLE FROM THE VARIABLE **'ARRDELAY'** WHICH WILL TAKE THE VALUE 0 IF THE PLANE HAS ARRIVED ON TIME AND THE VALUE 1 IF THE PLANE HAS ARRIVED LATER THAN 15 MINUTES THAN EXPECTED."
   ]
  },
  {
   "cell_type": "code",
   "execution_count": 148,
   "metadata": {},
   "outputs": [],
   "source": [
    "# Create our target variable in category\n",
    "airlines['ArrDelay'] = [1 if x > 15 else 0 for x in airlines['ArrDelay']]"
   ]
  },
  {
   "cell_type": "code",
   "execution_count": 149,
   "metadata": {},
   "outputs": [
    {
     "data": {
      "text/plain": [
       "1    62.97\n",
       "0    37.03\n",
       "Name: ArrDelay, dtype: float64"
      ]
     },
     "execution_count": 149,
     "metadata": {},
     "output_type": "execute_result"
    }
   ],
   "source": [
    "# We see the distribution of delays\n",
    "round((airlines.ArrDelay.value_counts()/len(airlines.ArrDelay))*100,2)"
   ]
  },
  {
   "cell_type": "markdown",
   "metadata": {},
   "source": [
    "WE SEE HOW 63% OF THE AIRPLANES IN OUR DATASET ARRIVE LATE AT THE DESTINATION AIRPORTS, WHILE ONLY 37% OF THE AIRPLANES ARRIVE EARLY OR ON TIME."
   ]
  },
  {
   "cell_type": "code",
   "execution_count": 150,
   "metadata": {},
   "outputs": [
    {
     "name": "stdout",
     "output_type": "stream",
     "text": [
      "<class 'pandas.core.frame.DataFrame'>\n",
      "Int64Index: 200000 entries, 403778 to 579272\n",
      "Data columns (total 20 columns):\n",
      " #   Column             Non-Null Count   Dtype  \n",
      "---  ------             --------------   -----  \n",
      " 0   FlightDate_USA     200000 non-null  object \n",
      " 1   UniqueCarrier      200000 non-null  object \n",
      " 2   Origin             200000 non-null  object \n",
      " 3   Dest               200000 non-null  object \n",
      " 4   DepTime            200000 non-null  int64  \n",
      " 5   CRSDepTime         200000 non-null  int64  \n",
      " 6   ArrTime            200000 non-null  float64\n",
      " 7   CRSArrTime         200000 non-null  int64  \n",
      " 8   FlightNum          200000 non-null  int64  \n",
      " 9   ActualElapsedTime  200000 non-null  float64\n",
      " 10  CRSElapsedTime     200000 non-null  float64\n",
      " 11  AirTime            200000 non-null  float64\n",
      " 12  ArrDelay           200000 non-null  int64  \n",
      " 13  DepDelay           200000 non-null  int64  \n",
      " 14  Distance           200000 non-null  int64  \n",
      " 15  CarrierDelay       200000 non-null  int64  \n",
      " 16  WeatherDelay       200000 non-null  int64  \n",
      " 17  NASDelay           200000 non-null  int64  \n",
      " 18  SecurityDelay      200000 non-null  int64  \n",
      " 19  LateAircraftDelay  200000 non-null  int64  \n",
      "dtypes: float64(4), int64(12), object(4)\n",
      "memory usage: 32.0+ MB\n"
     ]
    }
   ],
   "source": [
    "# Variable information\n",
    "airlines.info()"
   ]
  },
  {
   "cell_type": "code",
   "execution_count": 151,
   "metadata": {},
   "outputs": [
    {
     "data": {
      "text/html": [
       "<div>\n",
       "<style scoped>\n",
       "    .dataframe tbody tr th:only-of-type {\n",
       "        vertical-align: middle;\n",
       "    }\n",
       "\n",
       "    .dataframe tbody tr th {\n",
       "        vertical-align: top;\n",
       "    }\n",
       "\n",
       "    .dataframe thead th {\n",
       "        text-align: right;\n",
       "    }\n",
       "</style>\n",
       "<table border=\"1\" class=\"dataframe\">\n",
       "  <thead>\n",
       "    <tr style=\"text-align: right;\">\n",
       "      <th></th>\n",
       "      <th>DepTime</th>\n",
       "      <th>CRSDepTime</th>\n",
       "      <th>ArrTime</th>\n",
       "      <th>CRSArrTime</th>\n",
       "      <th>FlightNum</th>\n",
       "      <th>ActualElapsedTime</th>\n",
       "      <th>CRSElapsedTime</th>\n",
       "      <th>AirTime</th>\n",
       "      <th>ArrDelay</th>\n",
       "      <th>DepDelay</th>\n",
       "      <th>Distance</th>\n",
       "      <th>CarrierDelay</th>\n",
       "      <th>WeatherDelay</th>\n",
       "      <th>NASDelay</th>\n",
       "      <th>SecurityDelay</th>\n",
       "      <th>LateAircraftDelay</th>\n",
       "    </tr>\n",
       "  </thead>\n",
       "  <tbody>\n",
       "    <tr>\n",
       "      <th>count</th>\n",
       "      <td>200000.00</td>\n",
       "      <td>200000.00</td>\n",
       "      <td>200000.00</td>\n",
       "      <td>200000.00</td>\n",
       "      <td>200000.00</td>\n",
       "      <td>200000.00</td>\n",
       "      <td>200000.00</td>\n",
       "      <td>200000.00</td>\n",
       "      <td>200000.00</td>\n",
       "      <td>200000.00</td>\n",
       "      <td>200000.00</td>\n",
       "      <td>200000.00</td>\n",
       "      <td>200000.00</td>\n",
       "      <td>200000.00</td>\n",
       "      <td>200000.00</td>\n",
       "      <td>200000.00</td>\n",
       "    </tr>\n",
       "    <tr>\n",
       "      <th>mean</th>\n",
       "      <td>1517.18</td>\n",
       "      <td>1465.87</td>\n",
       "      <td>1609.31</td>\n",
       "      <td>1632.67</td>\n",
       "      <td>2181.31</td>\n",
       "      <td>133.36</td>\n",
       "      <td>134.22</td>\n",
       "      <td>108.30</td>\n",
       "      <td>0.63</td>\n",
       "      <td>43.09</td>\n",
       "      <td>765.32</td>\n",
       "      <td>12.40</td>\n",
       "      <td>2.37</td>\n",
       "      <td>9.83</td>\n",
       "      <td>0.06</td>\n",
       "      <td>16.31</td>\n",
       "    </tr>\n",
       "    <tr>\n",
       "      <th>std</th>\n",
       "      <td>450.69</td>\n",
       "      <td>425.03</td>\n",
       "      <td>547.79</td>\n",
       "      <td>464.71</td>\n",
       "      <td>1945.45</td>\n",
       "      <td>71.88</td>\n",
       "      <td>71.10</td>\n",
       "      <td>68.48</td>\n",
       "      <td>0.48</td>\n",
       "      <td>53.54</td>\n",
       "      <td>572.52</td>\n",
       "      <td>36.53</td>\n",
       "      <td>17.15</td>\n",
       "      <td>28.46</td>\n",
       "      <td>1.61</td>\n",
       "      <td>35.88</td>\n",
       "    </tr>\n",
       "    <tr>\n",
       "      <th>min</th>\n",
       "      <td>1.00</td>\n",
       "      <td>0.00</td>\n",
       "      <td>1.00</td>\n",
       "      <td>0.00</td>\n",
       "      <td>1.00</td>\n",
       "      <td>15.00</td>\n",
       "      <td>17.00</td>\n",
       "      <td>1.00</td>\n",
       "      <td>0.00</td>\n",
       "      <td>6.00</td>\n",
       "      <td>31.00</td>\n",
       "      <td>0.00</td>\n",
       "      <td>0.00</td>\n",
       "      <td>0.00</td>\n",
       "      <td>0.00</td>\n",
       "      <td>0.00</td>\n",
       "    </tr>\n",
       "    <tr>\n",
       "      <th>25%</th>\n",
       "      <td>1202.00</td>\n",
       "      <td>1131.00</td>\n",
       "      <td>1315.00</td>\n",
       "      <td>1324.00</td>\n",
       "      <td>610.00</td>\n",
       "      <td>80.00</td>\n",
       "      <td>81.00</td>\n",
       "      <td>58.00</td>\n",
       "      <td>0.00</td>\n",
       "      <td>12.00</td>\n",
       "      <td>338.00</td>\n",
       "      <td>0.00</td>\n",
       "      <td>0.00</td>\n",
       "      <td>0.00</td>\n",
       "      <td>0.00</td>\n",
       "      <td>0.00</td>\n",
       "    </tr>\n",
       "    <tr>\n",
       "      <th>50%</th>\n",
       "      <td>1544.00</td>\n",
       "      <td>1510.00</td>\n",
       "      <td>1714.00</td>\n",
       "      <td>1705.00</td>\n",
       "      <td>1541.00</td>\n",
       "      <td>116.00</td>\n",
       "      <td>116.00</td>\n",
       "      <td>90.00</td>\n",
       "      <td>1.00</td>\n",
       "      <td>24.00</td>\n",
       "      <td>606.00</td>\n",
       "      <td>0.00</td>\n",
       "      <td>0.00</td>\n",
       "      <td>0.00</td>\n",
       "      <td>0.00</td>\n",
       "      <td>0.00</td>\n",
       "    </tr>\n",
       "    <tr>\n",
       "      <th>75%</th>\n",
       "      <td>1900.00</td>\n",
       "      <td>1815.00</td>\n",
       "      <td>2030.00</td>\n",
       "      <td>2013.00</td>\n",
       "      <td>3405.00</td>\n",
       "      <td>165.00</td>\n",
       "      <td>165.00</td>\n",
       "      <td>138.00</td>\n",
       "      <td>1.00</td>\n",
       "      <td>53.00</td>\n",
       "      <td>998.00</td>\n",
       "      <td>9.00</td>\n",
       "      <td>0.00</td>\n",
       "      <td>6.00</td>\n",
       "      <td>0.00</td>\n",
       "      <td>18.00</td>\n",
       "    </tr>\n",
       "    <tr>\n",
       "      <th>max</th>\n",
       "      <td>2400.00</td>\n",
       "      <td>2359.00</td>\n",
       "      <td>2400.00</td>\n",
       "      <td>2359.00</td>\n",
       "      <td>9740.00</td>\n",
       "      <td>667.00</td>\n",
       "      <td>660.00</td>\n",
       "      <td>631.00</td>\n",
       "      <td>1.00</td>\n",
       "      <td>1521.00</td>\n",
       "      <td>4962.00</td>\n",
       "      <td>1395.00</td>\n",
       "      <td>915.00</td>\n",
       "      <td>1289.00</td>\n",
       "      <td>254.00</td>\n",
       "      <td>1254.00</td>\n",
       "    </tr>\n",
       "  </tbody>\n",
       "</table>\n",
       "</div>"
      ],
      "text/plain": [
       "         DepTime  CRSDepTime    ArrTime  CRSArrTime  FlightNum  \\\n",
       "count  200000.00   200000.00  200000.00   200000.00  200000.00   \n",
       "mean     1517.18     1465.87    1609.31     1632.67    2181.31   \n",
       "std       450.69      425.03     547.79      464.71    1945.45   \n",
       "min         1.00        0.00       1.00        0.00       1.00   \n",
       "25%      1202.00     1131.00    1315.00     1324.00     610.00   \n",
       "50%      1544.00     1510.00    1714.00     1705.00    1541.00   \n",
       "75%      1900.00     1815.00    2030.00     2013.00    3405.00   \n",
       "max      2400.00     2359.00    2400.00     2359.00    9740.00   \n",
       "\n",
       "       ActualElapsedTime  CRSElapsedTime    AirTime   ArrDelay   DepDelay  \\\n",
       "count          200000.00       200000.00  200000.00  200000.00  200000.00   \n",
       "mean              133.36          134.22     108.30       0.63      43.09   \n",
       "std                71.88           71.10      68.48       0.48      53.54   \n",
       "min                15.00           17.00       1.00       0.00       6.00   \n",
       "25%                80.00           81.00      58.00       0.00      12.00   \n",
       "50%               116.00          116.00      90.00       1.00      24.00   \n",
       "75%               165.00          165.00     138.00       1.00      53.00   \n",
       "max               667.00          660.00     631.00       1.00    1521.00   \n",
       "\n",
       "        Distance  CarrierDelay  WeatherDelay   NASDelay  SecurityDelay  \\\n",
       "count  200000.00     200000.00     200000.00  200000.00      200000.00   \n",
       "mean      765.32         12.40          2.37       9.83           0.06   \n",
       "std       572.52         36.53         17.15      28.46           1.61   \n",
       "min        31.00          0.00          0.00       0.00           0.00   \n",
       "25%       338.00          0.00          0.00       0.00           0.00   \n",
       "50%       606.00          0.00          0.00       0.00           0.00   \n",
       "75%       998.00          9.00          0.00       6.00           0.00   \n",
       "max      4962.00       1395.00        915.00    1289.00         254.00   \n",
       "\n",
       "       LateAircraftDelay  \n",
       "count          200000.00  \n",
       "mean               16.31  \n",
       "std                35.88  \n",
       "min                 0.00  \n",
       "25%                 0.00  \n",
       "50%                 0.00  \n",
       "75%                18.00  \n",
       "max              1254.00  "
      ]
     },
     "execution_count": 151,
     "metadata": {},
     "output_type": "execute_result"
    }
   ],
   "source": [
    "# Variables description\n",
    "round(airlines.describe(),2)"
   ]
  },
  {
   "cell_type": "markdown",
   "metadata": {},
   "source": [
    "#### **MATRIX**\n",
    "\n",
    "WE WILL MAKE A MATRIX OF CORRELATIONS TO SEE THE RELATIONSHIPS BETWEEN VARIABLES AND THE RELATIONSHIP WITH OUR TARGET VARIABLE"
   ]
  },
  {
   "cell_type": "code",
   "execution_count": 152,
   "metadata": {},
   "outputs": [
    {
     "data": {
      "image/png": "[encoded data removed]",
      "text/plain": [
       "<Figure size 1440x504 with 2 Axes>"
      ]
     },
     "metadata": {
      "needs_background": "light"
     },
     "output_type": "display_data"
    }
   ],
   "source": [
    "# Correlations Matrix\n",
    "\n",
    "# Framework\n",
    "fig, ax = plt.subplots(figsize = (20,7))\n",
    "\n",
    "# Data\n",
    "correlation_matrix = airlines.corr(method='pearson')\n",
    "half_matrix = np.triu(correlation_matrix)\n",
    "\n",
    "# Plot\n",
    "sns.heatmap(correlation_matrix, annot = True, mask = half_matrix, cmap = sns.color_palette(\"coolwarm\", as_cmap=True))\n",
    "fig.suptitle('Heatmap Matrix', fontsize = 20, fontweight = 'bold')\n",
    "plt.show()"
   ]
  },
  {
   "cell_type": "markdown",
   "metadata": {},
   "source": [
    "THANKS TO THE MATRIX OF CORRELATIONS WE SEE THAT WE COULD ELIMINATE THOSE VARIABLES THAT ARE VERY SIMILAR AND THAT ALSO INCREASE THE CORRELATION. FOR EXAMPLE, THE VARIABLES **'ARRTIME'** AND **'CRSARRTIME**. THEREFORE WE WILL ELIMINATE THE SCHEDULES.\n",
    "\n",
    "IN ADDITION, WE CONSIDER IT APPROPRIATE TO ELIMINATE THE DIFFERENT TYPES OF DELAY, SINCE IF WE DO NOT DO IT, WE WILL OBTAIN AN OVERFITTED MODEL. THE DELAY OF AIRCRAFT UPON ARRIVAL IS ENTIRELY EXPLAINED BY THE DIFFERENT TYPES OF DELAY."
   ]
  },
  {
   "cell_type": "code",
   "execution_count": 153,
   "metadata": {},
   "outputs": [],
   "source": [
    "# Elimante schedule variables\n",
    "airlines.drop(['CRSDepTime', 'CRSArrTime', 'CRSElapsedTime','CarrierDelay','WeatherDelay','NASDelay','SecurityDelay','LateAircraftDelay'], axis = 1, inplace=True)"
   ]
  },
  {
   "cell_type": "markdown",
   "metadata": {},
   "source": [
    "## **EXERCISE 1**\n",
    "\n",
    "**STATEMENT:** Create at least three different classification models to try to best predict DelayedFlights.csv flight delay (ArrDelay). Consider whether the flight is late or not (ArrDelay> 0).\n",
    "\n",
    "THE THREE CLASSIFICATION MODELS WE ARE GOING TO USE FOR OUR DATASET ARE THE FOLLOWING:\n",
    "\n",
    "+ CLASSIFICATION TREE (DT)\n",
    "\n",
    "+ K-NEAREST NEIGHBORS\n",
    "\n",
    "+ LOGISTIC REGRESSION\n",
    "   \n",
    "+ XGBOOST "
   ]
  },
  {
   "cell_type": "code",
   "execution_count": 154,
   "metadata": {},
   "outputs": [
    {
     "data": {
      "text/html": [
       "<div>\n",
       "<style scoped>\n",
       "    .dataframe tbody tr th:only-of-type {\n",
       "        vertical-align: middle;\n",
       "    }\n",
       "\n",
       "    .dataframe tbody tr th {\n",
       "        vertical-align: top;\n",
       "    }\n",
       "\n",
       "    .dataframe thead th {\n",
       "        text-align: right;\n",
       "    }\n",
       "</style>\n",
       "<table border=\"1\" class=\"dataframe\">\n",
       "  <thead>\n",
       "    <tr style=\"text-align: right;\">\n",
       "      <th></th>\n",
       "      <th>FlightDate_USA</th>\n",
       "      <th>UniqueCarrier</th>\n",
       "      <th>Origin</th>\n",
       "      <th>Dest</th>\n",
       "      <th>DepTime</th>\n",
       "      <th>ArrTime</th>\n",
       "      <th>FlightNum</th>\n",
       "      <th>ActualElapsedTime</th>\n",
       "      <th>AirTime</th>\n",
       "      <th>ArrDelay</th>\n",
       "      <th>DepDelay</th>\n",
       "      <th>Distance</th>\n",
       "    </tr>\n",
       "  </thead>\n",
       "  <tbody>\n",
       "    <tr>\n",
       "      <th>403778</th>\n",
       "      <td>2008-03-25</td>\n",
       "      <td>WN</td>\n",
       "      <td>STL</td>\n",
       "      <td>MDW</td>\n",
       "      <td>1124</td>\n",
       "      <td>1221.0</td>\n",
       "      <td>1095</td>\n",
       "      <td>57.0</td>\n",
       "      <td>45.0</td>\n",
       "      <td>0</td>\n",
       "      <td>9</td>\n",
       "      <td>251</td>\n",
       "    </tr>\n",
       "    <tr>\n",
       "      <th>1397595</th>\n",
       "      <td>2008-08-09</td>\n",
       "      <td>AA</td>\n",
       "      <td>DFW</td>\n",
       "      <td>MIA</td>\n",
       "      <td>1152</td>\n",
       "      <td>1555.0</td>\n",
       "      <td>1690</td>\n",
       "      <td>183.0</td>\n",
       "      <td>153.0</td>\n",
       "      <td>1</td>\n",
       "      <td>22</td>\n",
       "      <td>1121</td>\n",
       "    </tr>\n",
       "  </tbody>\n",
       "</table>\n",
       "</div>"
      ],
      "text/plain": [
       "        FlightDate_USA UniqueCarrier Origin Dest  DepTime  ArrTime  FlightNum  \\\n",
       "403778      2008-03-25            WN    STL  MDW     1124   1221.0       1095   \n",
       "1397595     2008-08-09            AA    DFW  MIA     1152   1555.0       1690   \n",
       "\n",
       "         ActualElapsedTime  AirTime  ArrDelay  DepDelay  Distance  \n",
       "403778                57.0     45.0         0         9       251  \n",
       "1397595              183.0    153.0         1        22      1121  "
      ]
     },
     "execution_count": 154,
     "metadata": {},
     "output_type": "execute_result"
    }
   ],
   "source": [
    "# Our dataset\n",
    "airlines.head(2)"
   ]
  },
  {
   "cell_type": "markdown",
   "metadata": {},
   "source": [
    "WE WILL WORK ONLY WITH NUMERICAL VARIABLES, SINCE WE HAVE BEEN ABLE TO SEE IN PREVIOUS STUDIES THAT THE CATEGORICAL VARIABLES DID NOT PROVIDE MUCH INFORMATION TO THE MODEL WHEN WE CONVERTED THEM TO NUMERICAL"
   ]
  },
  {
   "cell_type": "code",
   "execution_count": 155,
   "metadata": {},
   "outputs": [],
   "source": [
    "numerical_airlines = airlines.select_dtypes(include = ['float64', 'int'])"
   ]
  },
  {
   "cell_type": "code",
   "execution_count": 156,
   "metadata": {},
   "outputs": [
    {
     "data": {
      "text/html": [
       "<div>\n",
       "<style scoped>\n",
       "    .dataframe tbody tr th:only-of-type {\n",
       "        vertical-align: middle;\n",
       "    }\n",
       "\n",
       "    .dataframe tbody tr th {\n",
       "        vertical-align: top;\n",
       "    }\n",
       "\n",
       "    .dataframe thead th {\n",
       "        text-align: right;\n",
       "    }\n",
       "</style>\n",
       "<table border=\"1\" class=\"dataframe\">\n",
       "  <thead>\n",
       "    <tr style=\"text-align: right;\">\n",
       "      <th></th>\n",
       "      <th>DepTime</th>\n",
       "      <th>ArrTime</th>\n",
       "      <th>FlightNum</th>\n",
       "      <th>ActualElapsedTime</th>\n",
       "      <th>AirTime</th>\n",
       "      <th>ArrDelay</th>\n",
       "      <th>DepDelay</th>\n",
       "      <th>Distance</th>\n",
       "    </tr>\n",
       "  </thead>\n",
       "  <tbody>\n",
       "    <tr>\n",
       "      <th>403778</th>\n",
       "      <td>1124</td>\n",
       "      <td>1221.0</td>\n",
       "      <td>1095</td>\n",
       "      <td>57.0</td>\n",
       "      <td>45.0</td>\n",
       "      <td>0</td>\n",
       "      <td>9</td>\n",
       "      <td>251</td>\n",
       "    </tr>\n",
       "    <tr>\n",
       "      <th>1397595</th>\n",
       "      <td>1152</td>\n",
       "      <td>1555.0</td>\n",
       "      <td>1690</td>\n",
       "      <td>183.0</td>\n",
       "      <td>153.0</td>\n",
       "      <td>1</td>\n",
       "      <td>22</td>\n",
       "      <td>1121</td>\n",
       "    </tr>\n",
       "  </tbody>\n",
       "</table>\n",
       "</div>"
      ],
      "text/plain": [
       "         DepTime  ArrTime  FlightNum  ActualElapsedTime  AirTime  ArrDelay  \\\n",
       "403778      1124   1221.0       1095               57.0     45.0         0   \n",
       "1397595     1152   1555.0       1690              183.0    153.0         1   \n",
       "\n",
       "         DepDelay  Distance  \n",
       "403778          9       251  \n",
       "1397595        22      1121  "
      ]
     },
     "execution_count": 156,
     "metadata": {},
     "output_type": "execute_result"
    }
   ],
   "source": [
    "numerical_airlines.head(2)"
   ]
  },
  {
   "cell_type": "markdown",
   "metadata": {},
   "source": [
    "### **FUNCTIONS**"
   ]
  },
  {
   "cell_type": "markdown",
   "metadata": {},
   "source": [
    "WE WILL NEED TO SUMMARIZE IN A DATAFRAME THE RESULTS OF THE METRICS OF THE ALGORITHMS IN THE SIMPLEST POSSIBLE WAY"
   ]
  },
  {
   "cell_type": "code",
   "execution_count": 157,
   "metadata": {},
   "outputs": [],
   "source": [
    "# Create a variable\n",
    "comparing_classification_models = pd.DataFrame()"
   ]
  },
  {
   "cell_type": "markdown",
   "metadata": {},
   "source": [
    "WE CREATE A FUNCTION THAT CALL THE DATAFRAME AND WITH IT SELECT THE **PREDICTOR VARIABLES** AND THE **TARGET VARIABLE** AND THEN MAKE THE CORRESPONDING **SPLIT** OF THE DATA."
   ]
  },
  {
   "cell_type": "code",
   "execution_count": 158,
   "metadata": {},
   "outputs": [],
   "source": [
    "# Predictors, Target and Split\n",
    "\n",
    "def X_y_and_split(dataframe):\n",
    "\n",
    "    # We globalize the variables so that they can be accessed from anywhere\n",
    "    global X , y, X_train, X_test, y_train, y_test\n",
    "\n",
    "    # Variables predictoras\n",
    "    X = dataframe.drop(['ArrDelay'], axis = 1).values\n",
    "\n",
    "    # Variable target\n",
    "    y = dataframe['ArrDelay'].values\n",
    "\n",
    "    # Split the dataset\n",
    "    X_train, X_test, y_train, y_test = train_test_split(X, y, test_size=0.2, random_state=42)\n",
    "    train_test_shapes = pd.DataFrame([{'X_train shape: ' : X_train.shape, 'X_test shape: ' : X_test.shape, 'y_train shape: ': y_train.shape, 'y_test shape: ': y_test.shape }])\n",
    "    print(train_test_shapes)"
   ]
  },
  {
   "cell_type": "markdown",
   "metadata": {},
   "source": [
    "WE CREATED A **CONFUSION MATRIX** TO HAVE A BETTER RESPONSE OF THE CLASSIFICATION RESULTS."
   ]
  },
  {
   "cell_type": "code",
   "execution_count": 159,
   "metadata": {},
   "outputs": [],
   "source": [
    "# Confusion Matrix\n",
    "def confusion_matrix_classification(y_test, y_pred, y_pred_prob, model_name):\n",
    "    \n",
    "    # Confusion Matrix\n",
    "    confusion_matrix_single = metrics.confusion_matrix(y_test, y_pred)\n",
    "\n",
    "    # DataFrame\n",
    "    confusion_matrix_df = pd.DataFrame(confusion_matrix_single)\n",
    "\n",
    "    # Plot\n",
    "    fig, ax = plt.subplots(figsize = (10,5))\n",
    "    sns.heatmap(pd.DataFrame(confusion_matrix_df), annot=True, fmt='d' ,annot_kws={'size': 12}, cmap = 'OrRd') \n",
    "    plt.ylabel('Actual', fontsize = 12); plt.xlabel('Predicted', fontsize =12); plt.suptitle(t= 'CONFUSION MATRIX',fontsize =16, fontweight = 'bold'); plt.title(model_name, loc= 'left',fontsize = 14);plt.show()\n",
    "    \n",
    "    # Metrics\n",
    "    Accuracy = metrics.accuracy_score(y_test, y_pred)\n",
    "    Precision = metrics.precision_score(y_test, y_pred)\n",
    "    Recall = metrics.recall_score(y_test, y_pred)\n",
    "    F1 = metrics.f1_score(y_test, y_pred)\n",
    "    AUC = metrics.roc_auc_score(y_test, y_pred_prob)\n",
    "\n",
    "    confusion_matrix_metrics = pd.DataFrame([{'Accuracy: ': Accuracy, 'Precision: ': Precision,\n",
    "    'Recall: ': Recall , 'F1: ': F1 ,'AUC: ': AUC}], index=[model_name])\n",
    "\n",
    "    # We save the confusion matrix of each example for example 2\n",
    "    global comparing_classification_models\n",
    "    comparing_classification_models = comparing_classification_models.append(confusion_matrix_metrics)\n",
    "\n",
    "    print(confusion_matrix_metrics)\n",
    "    "
   ]
  },
  {
   "cell_type": "markdown",
   "metadata": {},
   "source": [
    "WE CREATE THE **ROC CURVE** TO SEE THE THRESHOLD BETWEEN THE RATIO OF TRUE POSITIVES VERSUS THE RATIO OF FALSE POSITIVES"
   ]
  },
  {
   "cell_type": "code",
   "execution_count": 160,
   "metadata": {},
   "outputs": [],
   "source": [
    "# ROC Curve\n",
    "\n",
    "def ROC_curve(y_test, y_pred_prob):\n",
    "\n",
    "    # ROC curve\n",
    "    fpr, tpr, thresholds = metrics.roc_curve(y_test, y_pred_prob)\n",
    "\n",
    "    # Plot\n",
    "    auc = metrics.roc_auc_score(y_test, y_pred_prob)\n",
    "    plt.plot(fpr, tpr, label='AUC='+str(auc))\n",
    "    plt.xlim([0.0, 1.0]); plt.ylim([0.0, 1.0])\n",
    "    plt.title('ROC Curve Classification');plt.xlabel('False Positive Rate (1 - Specificity)');plt.ylabel('True Positive Rate (Sensitivity)'); plt.legend() ;plt.show()"
   ]
  },
  {
   "cell_type": "code",
   "execution_count": 161,
   "metadata": {},
   "outputs": [
    {
     "name": "stdout",
     "output_type": "stream",
     "text": [
      "  X_train shape:  X_test shape:  y_train shape:  y_test shape: \n",
      "0     (160000, 7)     (40000, 7)       (160000,)       (40000,)\n"
     ]
    }
   ],
   "source": [
    "# Our Dataset\n",
    "X_y_and_split(numerical_airlines)"
   ]
  },
  {
   "cell_type": "markdown",
   "metadata": {},
   "source": [
    "### **CLASSIFICATION TREE**\n",
    "\n",
    "OUR **OBJECTIVE** IS TO SEE THE ACCURACY OF THE ALGORITHM WHEN CLASSIFYING WHETHER AN AIRPLANE HAS ARRIVED ON TIME OR LATE AT THE DESTINATION AIRPORT.\n",
    "\n",
    "FIRST OF ALL WE WILL MAKE A SIMPLE **CLASSIFICATION TREE** WITHOUT TAKING INTO ACCOUNT ANY PARAMETER."
   ]
  },
  {
   "cell_type": "code",
   "execution_count": 162,
   "metadata": {},
   "outputs": [],
   "source": [
    "# Model 1. Classification Tree (DT)\n",
    "def classification_tree(X_train, X_test, y_train, y_test):\n",
    "\n",
    "    global classification_tree, y_pred_DT, y_pred_prob_DT, dummy_DT, dummy_pred_DT, dummy_pred_prob_DT\n",
    "    # Object\n",
    "    classification_tree = DecisionTreeClassifier() # Without hyperparameterization\n",
    "\n",
    "    # Train the model\n",
    "    classification_tree = classification_tree.fit(X_train, y_train)\n",
    "\n",
    "    # Predictions\n",
    "    y_pred_DT = classification_tree.predict(X_test)\n",
    "    y_pred_prob_DT = classification_tree.predict_proba(X_test)[::,1] # Convert to an array\n",
    "\n",
    "    # Accuracy\n",
    "    print('Accuracy: ', metrics.accuracy_score(y_test, y_pred_DT), end = '\\n')\n",
    "\n",
    "    # Dummy classifier\n",
    "    dummy_DT = DummyClassifier(strategy='most_frequent').fit(X_train, y_train) # Predictions with 1\n",
    "    dummy_pred_DT = dummy_DT.predict(X_test)\n",
    "    dummy_pred_prob_DT = dummy_DT.predict_proba(X_test)[::,1] # Convert to an array\n",
    "\n",
    "    # Dummy Accuracy \n",
    "    print('Dummy Accuracy: ', metrics.accuracy_score(y_test, dummy_pred_DT))"
   ]
  },
  {
   "cell_type": "code",
   "execution_count": 163,
   "metadata": {},
   "outputs": [
    {
     "name": "stdout",
     "output_type": "stream",
     "text": [
      "Accuracy:  0.8576\n",
      "Dummy Accuracy:  0.633325\n"
     ]
    },
    {
     "data": {
      "image/png": "[encoded data removed]",
      "text/plain": [
       "<Figure size 720x360 with 2 Axes>"
      ]
     },
     "metadata": {
      "needs_background": "light"
     },
     "output_type": "display_data"
    },
    {
     "name": "stdout",
     "output_type": "stream",
     "text": [
      "                     Accuracy:   Precision:   Recall:       F1:     AUC: \n",
      "Classification Tree      0.8576     0.889484   0.88513  0.887302  0.84759\n"
     ]
    },
    {
     "data": {
      "image/png": "[encoded data removed]",
      "text/plain": [
       "<Figure size 432x288 with 1 Axes>"
      ]
     },
     "metadata": {
      "needs_background": "light"
     },
     "output_type": "display_data"
    }
   ],
   "source": [
    "# Classification Tree results\n",
    "\n",
    "# The model results\n",
    "classification_tree(X_train, X_test, y_train, y_test) \n",
    "\n",
    "# Confusion Matrix\n",
    "confusion_matrix_classification(y_test, y_pred_DT, y_pred_prob_DT, 'Classification Tree')\n",
    "\n",
    "# ROC Curve\n",
    "ROC_curve(y_test, y_pred_prob_DT)\n"
   ]
  },
  {
   "cell_type": "markdown",
   "metadata": {},
   "source": [
    "**CONCLUSIONS:** \n",
    "\n",
    "+ THE CLASSIFICATION TREE MODEL OBTAINS AN **ACCURACY** OF SUCCESSES OF **'0.8576'**, SO THE CLASSIFIER IS CORRECT **85,76%** OF THE TIMES. WE HAVE ADDED A DUMMY CLASSIFIER THAT SHOWS THE % OF SUCCESSES IF ONLY ARE DETECTED DELAYED FLIGHTS AND THE PERCENTAGE OF SUCCESS WOULD BE **63.33%**, WE COULD CONSIDER IT AS A HIGH PERCENTAGE WHEN WE ARE NOT REALLY PREDICTING ANYTHING ABOUT THE DATA.\n",
    "---\n",
    "+ THE CLASSIFICATION TREE MODEL HAS A **PRECISION** OF **'0.8894'**. THIS INDICATOR MEASURES WHEN A POSITIVE VALUE IS PREDICTED, HOW OFTEN IT IS CORRECTLY PREDICTED. THE SUCCESS RESULTS ARE **88.94%** OF THE TIMES.\n",
    "---\n",
    "+ THE CLASSIFICATION MODEL HAS A **SENSITIVITY (RECALL)** OF **'0.8851'**. THIS INDICATOR MEASURES WHEN THE TRUE VALUE IS POSITIVE, HOW OFTEN IT IS CORRECTLY PREDICTED. THE RESULTS OF HITTING ARE **88,51%**.\n",
    "---\n",
    "+ THE CLASSIFICATION MODEL HAS A **F1** OF **'0.8873'**. THIS INDICATOR SUMMARY OF ACCURACY AND RECOVERY. WHEN F1 = 1 INDICATES PERFECT SENSITIVITY AND ACCURACY. THE F1 RESULT IS **88,73%**.\n",
    "---\n",
    "+ THE **ROC CURVE** MEASURES THE DIFFERENT THRESHOLDS WHERE THE RATE OF TRUE POSITIVES IS EQUAL OR DIFFERENT FROM THE RATE OF FALSE POSITIVES. IN OUR CASE WE HAVE AN **AUC** OF **'0.8475'**\n",
    "---"
   ]
  },
  {
   "cell_type": "markdown",
   "metadata": {},
   "source": [
    "### **K-NEAREST NEIGHBORS**\n",
    "\n",
    "FIRST OF ALL WE WILL MAKE A SIMPLE **KNN** WITHOUT TAKING INTO ACCOUNT ANY PARAMETER."
   ]
  },
  {
   "cell_type": "code",
   "execution_count": 164,
   "metadata": {},
   "outputs": [],
   "source": [
    "# Model 2. K-Nearest Neighbors (KNN)\n",
    "\n",
    "def k_nearest_neighbors(X_train, X_test, y_train, y_test):\n",
    "\n",
    "    global knn_model, y_pred_KNN, y_pred_prob_KNN\n",
    "    # Object\n",
    "    knn_classification = KNeighborsClassifier() # Without Hyperparameterization\n",
    "    \n",
    "    # Train the model\n",
    "    knn_model = knn_classification.fit(X_train, y_train)\n",
    "\n",
    "    # Predictions\n",
    "    y_pred_KNN = knn_model.predict(X_test)\n",
    "    y_pred_prob_KNN = knn_model.predict_proba(X_test)[::,1]\n",
    "\n",
    "    print('Accuracy: ', metrics.accuracy_score(y_test,y_pred_KNN), end = '\\n')"
   ]
  },
  {
   "cell_type": "code",
   "execution_count": 165,
   "metadata": {},
   "outputs": [
    {
     "name": "stdout",
     "output_type": "stream",
     "text": [
      "Accuracy:  0.73495\n"
     ]
    },
    {
     "data": {
      "image/png": "[encoded data removed]",
      "text/plain": [
       "<Figure size 720x360 with 2 Axes>"
      ]
     },
     "metadata": {
      "needs_background": "light"
     },
     "output_type": "display_data"
    },
    {
     "name": "stdout",
     "output_type": "stream",
     "text": [
      "                     Accuracy:   Precision:   Recall:       F1:     AUC: \n",
      "K-Nearest Neighbors     0.73495     0.797056  0.780129  0.788501  0.80026\n"
     ]
    },
    {
     "data": {
      "image/png": "[encoded data removed]",
      "text/plain": [
       "<Figure size 432x288 with 1 Axes>"
      ]
     },
     "metadata": {
      "needs_background": "light"
     },
     "output_type": "display_data"
    }
   ],
   "source": [
    "# K-Nearest Neighbors\n",
    "\n",
    "# The model results\n",
    "k_nearest_neighbors(X_train, X_test, y_train, y_test)\n",
    "\n",
    "# Confusion Matrix\n",
    "confusion_matrix_classification(y_test, y_pred_KNN, y_pred_prob_KNN, 'K-Nearest Neighbors')\n",
    "\n",
    "# ROC Curve\n",
    "ROC_curve(y_test, y_pred_prob_KNN)"
   ]
  },
  {
   "cell_type": "markdown",
   "metadata": {},
   "source": [
    "**CONCLUSIONS:** \n",
    "\n",
    "+ THE K-NEAREST NEIGHBOR MODEL OBTAINS AN **ACCURACY** OF SUCCESSES OF **'0.7349'**, SO THE CLASSIFIER IS CORRECT **73,49%** OF THE TIMES.\n",
    "---\n",
    "+ THE K-NEAREST NEIGHBOR MODEL HAS A **PRECISION** OF **'0.7970'**. THIS INDICATOR MEASURES WHEN A POSITIVE VALUE IS PREDICTED, HOW OFTEN IT IS CORRECTLY PREDICTED. THE SUCCESS RESULTS ARE **79,70%** OF THE TIMES.\n",
    "---\n",
    "+ THE  K-NEAREST NEIGHBOR MODEL HAS A **SENSITIVITY (RECALL)** OF **'0.7801'**. THIS INDICATOR MEASURES WHEN THE TRUE VALUE IS POSITIVE, HOW OFTEN IT IS CORRECTLY PREDICTED. THE RESULTS OF HITTING ARE **78,01%**.\n",
    "---\n",
    "+ THE  K-NEAREST NEIGHBOR MODEL HAS A **F1** OF **'0.7885'**. THIS INDICATOR SUMMARY OF ACCURACY AND RECOVERY. WHEN F1 = 1 INDICATES PERFECT SENSITIVITY AND ACCURACY. THE F1 RESULT IS **78,85%**.\n",
    "---\n",
    "+ THE **ROC CURVE** MEASURES THE DIFFERENT THRESHOLDS WHERE THE RATE OF TRUE POSITIVES IS EQUAL OR DIFFERENT FROM THE RATE OF FALSE POSITIVES. IN OUR CASE WE HAVE AN **AUC** OF **'0.8002'**\n",
    "---"
   ]
  },
  {
   "cell_type": "markdown",
   "metadata": {},
   "source": [
    "### **LOGISTIC REGRESSION**\n",
    "\n",
    "FIRST OF ALL WE WILL MAKE A SIMPLE **LOGISTIC REGRESSION** WITHOUT TAKING INTO ACCOUNT ANY PARAMETER.\n"
   ]
  },
  {
   "cell_type": "code",
   "execution_count": 166,
   "metadata": {},
   "outputs": [],
   "source": [
    "# Model 3. Logistic Regression (LR)\n",
    "\n",
    "def logistic_regression(X_train, X_test, y_train, y_test):\n",
    "\n",
    "    global logistic_regression_model, y_pred_LR, y_pred_prob_LR\n",
    "    # Object\n",
    "    logistic_regression = LogisticRegression(solver = 'sag', max_iter=300)\n",
    "\n",
    "    # Train the model\n",
    "    logistic_regression_model = logistic_regression.fit(X_train, y_train)\n",
    "\n",
    "    # Predictions\n",
    "    y_pred_LR = logistic_regression_model.predict(X_test)\n",
    "    y_pred_prob_LR = logistic_regression_model.predict_proba(X_test)[::,1] \n",
    "\n",
    "    # Accuracy\n",
    "    print('Accuracy: ', metrics.accuracy_score(y_test, y_pred_LR), end = '\\n')\n"
   ]
  },
  {
   "cell_type": "code",
   "execution_count": 167,
   "metadata": {},
   "outputs": [
    {
     "name": "stdout",
     "output_type": "stream",
     "text": [
      "Accuracy:  0.8476\n"
     ]
    },
    {
     "data": {
      "image/png": "[encoded data removed]",
      "text/plain": [
       "<Figure size 720x360 with 2 Axes>"
      ]
     },
     "metadata": {
      "needs_background": "light"
     },
     "output_type": "display_data"
    },
    {
     "name": "stdout",
     "output_type": "stream",
     "text": [
      "                     Accuracy:   Precision:   Recall:       F1:     AUC: \n",
      "Logistic Regression      0.8476     0.872391  0.889472  0.880849  0.92985\n"
     ]
    },
    {
     "data": {
      "image/png": "[encoded data removed]",
      "text/plain": [
       "<Figure size 432x288 with 1 Axes>"
      ]
     },
     "metadata": {
      "needs_background": "light"
     },
     "output_type": "display_data"
    }
   ],
   "source": [
    "# Logistic Regression Results\n",
    "\n",
    "# The model results\n",
    "logistic_regression(X_train, X_test, y_train, y_test)\n",
    "\n",
    "# Confusion Matrix\n",
    "confusion_matrix_classification(y_test, y_pred_LR, y_pred_prob_LR, 'Logistic Regression')\n",
    "\n",
    "# ROC Curve\n",
    "ROC_curve(y_test, y_pred_prob_LR)"
   ]
  },
  {
   "cell_type": "markdown",
   "metadata": {},
   "source": [
    "**CONCLUSIONS:** \n",
    "\n",
    "+ THE LOGISTIC REGRESSION MODEL OBTAINS AN **ACCURACY** OF SUCCESSES OF **'0.8476'**, SO THE CLASSIFIER IS CORRECT **84,76%** OF THE TIMES.\n",
    "---\n",
    "+ THE LOGISTIC REGRESSION MODEL HAS A **PRECISION** OF **'0.8723'**. THIS INDICATOR MEASURES WHEN A POSITIVE VALUE IS PREDICTED, HOW OFTEN IT IS CORRECTLY PREDICTED. THE SUCCESS RESULTS ARE **87,23%** OF THE TIMES.\n",
    "---\n",
    "+ THE  LOGISTIC REGRESSION NEAREST NEIGHBOR MODEL HAS A **SENSITIVITY (RECALL)** OF **'0.8894'**. THIS INDICATOR MEASURES WHEN THE TRUE VALUE IS POSITIVE, HOW OFTEN IT IS CORRECTLY PREDICTED. THE RESULTS OF HITTING ARE **88,94%**.\n",
    "---\n",
    "+ THE  LOGISTIC REGRESSION  MODEL HAS A **F1** OF **'0.8808'**. THIS INDICATOR SUMMARY OF ACCURACY AND RECOVERY. WHEN F1 = 1 INDICATES PERFECT SENSITIVITY AND ACCURACY. THE F1 RESULT IS **88,08%**.\n",
    "---\n",
    "+ THE **ROC CURVE** MEASURES THE DIFFERENT THRESHOLDS WHERE THE RATE OF TRUE POSITIVES IS EQUAL OR DIFFERENT FROM THE RATE OF FALSE POSITIVES. IN OUR CASE WE HAVE AN **AUC** OF **'0.9298'**\n",
    "---"
   ]
  },
  {
   "cell_type": "markdown",
   "metadata": {},
   "source": [
    "### **XGBOOST**\n",
    "\n",
    "FIRST OF ALL WE WILL MAKE A SIMPLE **XGBOOST** ADDING SIMPLE PARAMETERS."
   ]
  },
  {
   "cell_type": "code",
   "execution_count": 168,
   "metadata": {},
   "outputs": [],
   "source": [
    "# Model 4. XGBoost (XGB)\n",
    "\n",
    "def XGBoost(X_train, X_test, y_train, y_test):\n",
    "\n",
    "    global xgboost_model, y_pred_XGB, y_pred_proba_XGB, rmse\n",
    "    # Object\n",
    "    xgboost = xgb.XGBClassifier(objective='binary:logistic', colsample_bytree = 0.3, learning_rate = 0.1, \n",
    "    max_depth = 5, alpha = 10, n_estimators = 10,  eval_metric = 'error' ,use_label_encoder=False)\n",
    "\n",
    "    # Train the model\n",
    "    xgboost_model = xgboost.fit(X_train, y_train)\n",
    "\n",
    "    # Predictions\n",
    "    y_pred_XGB = xgboost_model.predict(X_test)\n",
    "    y_pred_proba_XGB = xgboost_model.predict_proba(X_test)[::,1]\n",
    "\n",
    "    # RMSE\n",
    "    rmse = np.sqrt(mean_squared_error(y_test,y_pred_XGB))\n",
    "    print('RMSE: %f' %(rmse))\n",
    "\n",
    "\n"
   ]
  },
  {
   "cell_type": "code",
   "execution_count": 169,
   "metadata": {},
   "outputs": [
    {
     "name": "stdout",
     "output_type": "stream",
     "text": [
      "RMSE: 0.428369\n"
     ]
    },
    {
     "data": {
      "image/png": "[encoded data removed]",
      "text/plain": [
       "<Figure size 720x360 with 2 Axes>"
      ]
     },
     "metadata": {
      "needs_background": "light"
     },
     "output_type": "display_data"
    },
    {
     "name": "stdout",
     "output_type": "stream",
     "text": [
      "         Accuracy:   Precision:   Recall:       F1:      AUC: \n",
      "XGBoost      0.8165     0.822721  0.905341  0.862056  0.908923\n"
     ]
    },
    {
     "data": {
      "image/png": "[encoded data removed]",
      "text/plain": [
       "<Figure size 432x288 with 1 Axes>"
      ]
     },
     "metadata": {
      "needs_background": "light"
     },
     "output_type": "display_data"
    }
   ],
   "source": [
    "# XGBoost results\n",
    "\n",
    "# The model results\n",
    "XGBoost(X_train, X_test, y_train, y_test)\n",
    "\n",
    "# Confusion Matrix\n",
    "confusion_matrix_classification(y_test, y_pred_XGB, y_pred_proba_XGB, 'XGBoost')\n",
    "\n",
    "# ROC Curve\n",
    "ROC_curve(y_test, y_pred_proba_XGB)\n"
   ]
  },
  {
   "cell_type": "markdown",
   "metadata": {},
   "source": [
    "**CONCLUSIONS:** \n",
    "\n",
    "+ THE XGBOOST MODEL OBTAINS AN **ACCURACY** OF SUCCESSES OF **'0.8165'**, SO THE CLASSIFIER IS CORRECT **81,65%** OF THE TIMES.\n",
    "---\n",
    "+ THE XGBOOST MODEL HAS A **PRECISION** OF **'0.8227'**. THIS INDICATOR MEASURES WHEN A POSITIVE VALUE IS PREDICTED, HOW OFTEN IT IS CORRECTLY PREDICTED. THE SUCCESS RESULTS ARE **82,27%** OF THE TIMES.\n",
    "---\n",
    "+ THE  XGBOOST NEAREST NEIGHBOR MODEL HAS A **SENSITIVITY (RECALL)** OF **'0.9053'**. THIS INDICATOR MEASURES WHEN THE TRUE VALUE IS POSITIVE, HOW OFTEN IT IS CORRECTLY PREDICTED. THE RESULTS OF HITTING ARE **90,53%**.\n",
    "---\n",
    "+ THE  XGBOOST  MODEL HAS A **F1** OF **'0.8620'**. THIS INDICATOR SUMMARY OF ACCURACY AND RECOVERY. WHEN F1 = 1 INDICATES PERFECT SENSITIVITY AND ACCURACY. THE F1 RESULT IS **86,20%**.\n",
    "---\n",
    "+ THE **ROC CURVE** MEASURES THE DIFFERENT THRESHOLDS WHERE THE RATE OF TRUE POSITIVES IS EQUAL OR DIFFERENT FROM THE RATE OF FALSE POSITIVES. IN OUR CASE WE HAVE AN **AUC** OF **'0.9089'**\n",
    "---"
   ]
  },
  {
   "cell_type": "markdown",
   "metadata": {},
   "source": [
    "## **Exercise 2**\n",
    "**STATEMENT:** Compare the classification models using precision (accuracy), a matrix of confidence and of other more advanced metrics."
   ]
  },
  {
   "cell_type": "code",
   "execution_count": 170,
   "metadata": {},
   "outputs": [
    {
     "data": {
      "text/html": [
       "<div>\n",
       "<style scoped>\n",
       "    .dataframe tbody tr th:only-of-type {\n",
       "        vertical-align: middle;\n",
       "    }\n",
       "\n",
       "    .dataframe tbody tr th {\n",
       "        vertical-align: top;\n",
       "    }\n",
       "\n",
       "    .dataframe thead th {\n",
       "        text-align: right;\n",
       "    }\n",
       "</style>\n",
       "<table border=\"1\" class=\"dataframe\">\n",
       "  <thead>\n",
       "    <tr style=\"text-align: right;\">\n",
       "      <th></th>\n",
       "      <th>Accuracy:</th>\n",
       "      <th>Precision:</th>\n",
       "      <th>Recall:</th>\n",
       "      <th>F1:</th>\n",
       "      <th>AUC:</th>\n",
       "    </tr>\n",
       "  </thead>\n",
       "  <tbody>\n",
       "    <tr>\n",
       "      <th>Classification Tree</th>\n",
       "      <td>0.85760</td>\n",
       "      <td>0.889484</td>\n",
       "      <td>0.885130</td>\n",
       "      <td>0.887302</td>\n",
       "      <td>0.847590</td>\n",
       "    </tr>\n",
       "    <tr>\n",
       "      <th>K-Nearest Neighbors</th>\n",
       "      <td>0.73495</td>\n",
       "      <td>0.797056</td>\n",
       "      <td>0.780129</td>\n",
       "      <td>0.788501</td>\n",
       "      <td>0.800260</td>\n",
       "    </tr>\n",
       "    <tr>\n",
       "      <th>Logistic Regression</th>\n",
       "      <td>0.84760</td>\n",
       "      <td>0.872391</td>\n",
       "      <td>0.889472</td>\n",
       "      <td>0.880849</td>\n",
       "      <td>0.929850</td>\n",
       "    </tr>\n",
       "    <tr>\n",
       "      <th>XGBoost</th>\n",
       "      <td>0.81650</td>\n",
       "      <td>0.822721</td>\n",
       "      <td>0.905341</td>\n",
       "      <td>0.862056</td>\n",
       "      <td>0.908923</td>\n",
       "    </tr>\n",
       "  </tbody>\n",
       "</table>\n",
       "</div>"
      ],
      "text/plain": [
       "                     Accuracy:   Precision:   Recall:       F1:      AUC: \n",
       "Classification Tree     0.85760     0.889484  0.885130  0.887302  0.847590\n",
       "K-Nearest Neighbors     0.73495     0.797056  0.780129  0.788501  0.800260\n",
       "Logistic Regression     0.84760     0.872391  0.889472  0.880849  0.929850\n",
       "XGBoost                 0.81650     0.822721  0.905341  0.862056  0.908923"
      ]
     },
     "execution_count": 170,
     "metadata": {},
     "output_type": "execute_result"
    }
   ],
   "source": [
    "# Results\n",
    "comparing_classification_models"
   ]
  },
  {
   "cell_type": "markdown",
   "metadata": {},
   "source": [
    "**CONCLUSIONS**\n",
    "\n",
    "IF WE LOOK AT THE INDICATORS OF EACH OF THE 4 MODELS, WE CAN SEE THAT THE BEST RESULTS ARE OFFERED BY THE **CLASSIFICATION TREE**, **LOGISTIC REGRESSION** AND **XGBOOST** ALGORITHMS, RESPECTIVELY. WE CAN SEE THAT THE BEST **AUC** IS OFFERED BY **LOGISTIC REGRESSION**, THAT MEANS IS THE ALGORITHM WITH THE BEST CLASSIFIER FOLLOWED BY **XGBOOST**. FOR THE MOMENT!"
   ]
  },
  {
   "cell_type": "markdown",
   "metadata": {},
   "source": [
    "## **Exercise 3**\n",
    "**STATEMENT:** Train them using the different parameters they support."
   ]
  },
  {
   "cell_type": "markdown",
   "metadata": {},
   "source": [
    "### **CLASSIFICATION TREE (NEW PARAMETERS)**"
   ]
  },
  {
   "cell_type": "code",
   "execution_count": 171,
   "metadata": {},
   "outputs": [
    {
     "data": {
      "image/png": "[encoded data removed]",
      "text/plain": [
       "<Figure size 720x360 with 2 Axes>"
      ]
     },
     "metadata": {
      "needs_background": "light"
     },
     "output_type": "display_data"
    },
    {
     "name": "stdout",
     "output_type": "stream",
     "text": [
      "                                      Accuracy:   Precision:   Recall:   \\\n",
      "Classification Tree (New Parameters)    0.834275     0.902167  0.828129   \n",
      "\n",
      "                                          F1:      AUC:   \n",
      "Classification Tree (New Parameters)  0.863564  0.907411  \n"
     ]
    }
   ],
   "source": [
    "# Model 1. Classification Tree (DT_parameters)\n",
    "\n",
    "# Object\n",
    "classification_tree_parameters = DecisionTreeClassifier(criterion='entropy', max_depth= 3)\n",
    "\n",
    "# Train the model\n",
    "classification_tree_parameters_model = classification_tree_parameters.fit(X_train, y_train)\n",
    "\n",
    "# Predictions\n",
    "y_pred_DT_parameters = classification_tree_parameters_model.predict(X_test)\n",
    "y_pred_proba_DT_parameters = classification_tree_parameters_model.predict_proba(X_test)[::,1]\n",
    "\n",
    "# Classification Tree results (Confusion Matrix)\n",
    "confusion_matrix_classification(y_test, y_pred_DT_parameters, y_pred_proba_DT_parameters, 'Classification Tree (New Parameters)')"
   ]
  },
  {
   "cell_type": "markdown",
   "metadata": {},
   "source": [
    "### **K-NEAREST NEIGHBORS (NEW PARAMETERS)**\n",
    "\n",
    "IN THE **KNN MODEL** WE DO NOT KNOW WHICH VALUE OF K-NEIGHBORS GIVES THE BEST RESULTS. FOR THIS WE WILL LOOK FOR THE BEST VALUE OF 'K' FROM PLOTTING THE AVERAGE ERROR RATES. THE 'K' THAT HAS A LOWER VALUE IS THE ONE WE WILL CHOOSE.\n",
    "\n",
    "IN THE PREVIOUS EXERCISE, BY NOT DECLARE THE NUMBER OF 'K' IT IS ESTABLISHED AS 5 BY DEFAULT."
   ]
  },
  {
   "cell_type": "code",
   "execution_count": 172,
   "metadata": {},
   "outputs": [
    {
     "data": {
      "text/plain": [
       "Text(0, 0.5, 'Mean Error')"
      ]
     },
     "execution_count": 172,
     "metadata": {},
     "output_type": "execute_result"
    },
    {
     "data": {
      "image/png": "[encoded data removed]",
      "text/plain": [
       "<Figure size 864x432 with 1 Axes>"
      ]
     },
     "metadata": {
      "needs_background": "light"
     },
     "output_type": "display_data"
    }
   ],
   "source": [
    "# Mean Error Rate\n",
    "error = []\n",
    "\n",
    "for i in range(1,20):\n",
    "    knn = KNeighborsClassifier(n_neighbors=i)\n",
    "    knn.fit(X_train, y_train)\n",
    "    pred_i = knn.predict(X_test)\n",
    "    error.append(np.mean(pred_i != y_test))\n",
    "\n",
    "# Plot\n",
    "plt.figure(figsize = (12,6))\n",
    "plt.plot(range(1,20), error, color = 'gray', marker = 'o', markerfacecolor = 'yellow'); plt.title('Average Error Rate K Value'); plt.xlabel('K Values'); plt.ylabel('Mean Error')"
   ]
  },
  {
   "cell_type": "markdown",
   "metadata": {},
   "source": [
    "WE CAN CONCLUDE THAT THE LOWEST AVERAGE ERROR IS FOUND FOR A VERY LOW VALUE OF 'K'. THEREFORE, WE WILL STAY WITH A K-NEIGHBORS = 1."
   ]
  },
  {
   "cell_type": "code",
   "execution_count": 173,
   "metadata": {},
   "outputs": [
    {
     "data": {
      "image/png": "[encoded data removed]",
      "text/plain": [
       "<Figure size 720x360 with 2 Axes>"
      ]
     },
     "metadata": {
      "needs_background": "light"
     },
     "output_type": "display_data"
    },
    {
     "name": "stdout",
     "output_type": "stream",
     "text": [
      "                                      Accuracy:   Precision:   Recall:   \\\n",
      "K-Nearest Neighbors (New Parameters)    0.775375     0.836019  0.802787   \n",
      "\n",
      "                                          F1:      AUC:   \n",
      "K-Nearest Neighbors (New Parameters)  0.819066  0.765408  \n"
     ]
    }
   ],
   "source": [
    "# Model 2. K-Nearest Neighbors (KNN_parameters)\n",
    "\n",
    "# Object\n",
    "k_nearest_neighbors_parameters = KNeighborsClassifier(n_neighbors= 1, weights='distance', algorithm='ball_tree')\n",
    "\n",
    "# Train the model\n",
    "k_nearest_neighbors_parameters_model = k_nearest_neighbors_parameters.fit(X_train, y_train)\n",
    "\n",
    "# Predictions\n",
    "y_pred_KNN_parameters = k_nearest_neighbors_parameters_model.predict(X_test)\n",
    "y_pred_prob_KNN_parameters = k_nearest_neighbors_parameters_model.predict_proba(X_test)[::,1]\n",
    "\n",
    "# K-Nearest Neighbors results (Confusion Matrix)\n",
    "confusion_matrix_classification(y_test, y_pred_KNN_parameters, y_pred_prob_KNN_parameters, 'K-Nearest Neighbors (New Parameters)')"
   ]
  },
  {
   "cell_type": "markdown",
   "metadata": {},
   "source": [
    "### **LOGISTIC REGRESSION**"
   ]
  },
  {
   "cell_type": "code",
   "execution_count": 174,
   "metadata": {},
   "outputs": [
    {
     "data": {
      "image/png": "[encoded data removed]",
      "text/plain": [
       "<Figure size 720x360 with 2 Axes>"
      ]
     },
     "metadata": {
      "needs_background": "light"
     },
     "output_type": "display_data"
    },
    {
     "name": "stdout",
     "output_type": "stream",
     "text": [
      "                                      Accuracy:   Precision:   Recall:   \\\n",
      "Logistic Regression (New Parameters)      0.8894     0.923825  0.899538   \n",
      "\n",
      "                                         F1:      AUC:   \n",
      "Logistic Regression (New Parameters)  0.91152  0.958597  \n"
     ]
    }
   ],
   "source": [
    "# Model 3. Logistic Regression (LR_parameters)\n",
    "\n",
    "# Object\n",
    "logistic_regression_parameters = LogisticRegression(penalty = 'l2', solver = 'liblinear', max_iter=300, random_state = 42)\n",
    "\n",
    "# Train the model\n",
    "logistic_regression_parameters_model = logistic_regression_parameters.fit(X_train, y_train)\n",
    "\n",
    "# Predictions\n",
    "y_pred_LR_parameters = logistic_regression_parameters_model.predict(X_test)\n",
    "y_pred_proba_LR_parameters = logistic_regression_parameters_model.predict_proba(X_test)[::,1]\n",
    "\n",
    "# Logistic Regression results (Confusion Matrix)\n",
    "confusion_matrix_classification(y_test, y_pred_LR_parameters, y_pred_proba_LR_parameters, 'Logistic Regression (New Parameters)')"
   ]
  },
  {
   "cell_type": "markdown",
   "metadata": {},
   "source": [
    "### **XGBOOST**"
   ]
  },
  {
   "cell_type": "code",
   "execution_count": 175,
   "metadata": {},
   "outputs": [
    {
     "name": "stdout",
     "output_type": "stream",
     "text": [
      "RMSE; 0.308585\n"
     ]
    },
    {
     "data": {
      "image/png": "[encoded data removed]",
      "text/plain": [
       "<Figure size 720x360 with 2 Axes>"
      ]
     },
     "metadata": {
      "needs_background": "light"
     },
     "output_type": "display_data"
    },
    {
     "name": "stdout",
     "output_type": "stream",
     "text": [
      "                          Accuracy:   Precision:   Recall:       F1:   \\\n",
      "XGBoost (New Parameters)    0.904775     0.926285  0.923104  0.924692   \n",
      "\n",
      "                             AUC:   \n",
      "XGBoost (New Parameters)  0.969416  \n"
     ]
    }
   ],
   "source": [
    "# Model 4. XGBoost (XGB_parameters)\n",
    "\n",
    "# Object\n",
    "xgboost_parameters = xgb.XGBClassifier(base_score=0.5, colsample_bylevel=1, colsample_bytree=1,\n",
    "       gamma=0, learning_rate=0.1, max_delta_step=0, max_depth=10,\n",
    "       min_child_weight=1, missing=None, n_estimators=100, nthread=-1,\n",
    "       objective='binary:logistic', reg_alpha=0, reg_lambda=1,\n",
    "       scale_pos_weight=1, seed=0, subsample=1, eval_metric = 'logloss',use_label_encoder=False)\n",
    "\n",
    "# Train the model\n",
    "xgboost_parameters_model = xgboost_parameters.fit(X_train, y_train)\n",
    "\n",
    "# Predictions\n",
    "y_pred_XGB_parameters = xgboost_parameters_model.predict(X_test)\n",
    "y_pred_proba_XGB_parameters = xgboost_parameters_model.predict_proba(X_test)[::,1]\n",
    "\n",
    "# RMSE\n",
    "rmse = np.sqrt(mean_squared_error(y_test, y_pred_XGB_parameters))\n",
    "print('RMSE; %f' %(rmse))\n",
    "\n",
    "# XGBoost results (Confusion Matrix)\n",
    "confusion_matrix_classification(y_test, y_pred_XGB_parameters, y_pred_proba_XGB_parameters, 'XGBoost (New Parameters)')\n"
   ]
  },
  {
   "cell_type": "code",
   "execution_count": 176,
   "metadata": {},
   "outputs": [
    {
     "data": {
      "text/html": [
       "<div>\n",
       "<style scoped>\n",
       "    .dataframe tbody tr th:only-of-type {\n",
       "        vertical-align: middle;\n",
       "    }\n",
       "\n",
       "    .dataframe tbody tr th {\n",
       "        vertical-align: top;\n",
       "    }\n",
       "\n",
       "    .dataframe thead th {\n",
       "        text-align: right;\n",
       "    }\n",
       "</style>\n",
       "<table border=\"1\" class=\"dataframe\">\n",
       "  <thead>\n",
       "    <tr style=\"text-align: right;\">\n",
       "      <th></th>\n",
       "      <th>Accuracy:</th>\n",
       "      <th>Precision:</th>\n",
       "      <th>Recall:</th>\n",
       "      <th>F1:</th>\n",
       "      <th>AUC:</th>\n",
       "    </tr>\n",
       "  </thead>\n",
       "  <tbody>\n",
       "    <tr>\n",
       "      <th>Classification Tree</th>\n",
       "      <td>0.857600</td>\n",
       "      <td>0.889484</td>\n",
       "      <td>0.885130</td>\n",
       "      <td>0.887302</td>\n",
       "      <td>0.847590</td>\n",
       "    </tr>\n",
       "    <tr>\n",
       "      <th>K-Nearest Neighbors</th>\n",
       "      <td>0.734950</td>\n",
       "      <td>0.797056</td>\n",
       "      <td>0.780129</td>\n",
       "      <td>0.788501</td>\n",
       "      <td>0.800260</td>\n",
       "    </tr>\n",
       "    <tr>\n",
       "      <th>Logistic Regression</th>\n",
       "      <td>0.847600</td>\n",
       "      <td>0.872391</td>\n",
       "      <td>0.889472</td>\n",
       "      <td>0.880849</td>\n",
       "      <td>0.929850</td>\n",
       "    </tr>\n",
       "    <tr>\n",
       "      <th>XGBoost</th>\n",
       "      <td>0.816500</td>\n",
       "      <td>0.822721</td>\n",
       "      <td>0.905341</td>\n",
       "      <td>0.862056</td>\n",
       "      <td>0.908923</td>\n",
       "    </tr>\n",
       "    <tr>\n",
       "      <th>Classification Tree (New Parameters)</th>\n",
       "      <td>0.834275</td>\n",
       "      <td>0.902167</td>\n",
       "      <td>0.828129</td>\n",
       "      <td>0.863564</td>\n",
       "      <td>0.907411</td>\n",
       "    </tr>\n",
       "    <tr>\n",
       "      <th>K-Nearest Neighbors (New Parameters)</th>\n",
       "      <td>0.775375</td>\n",
       "      <td>0.836019</td>\n",
       "      <td>0.802787</td>\n",
       "      <td>0.819066</td>\n",
       "      <td>0.765408</td>\n",
       "    </tr>\n",
       "    <tr>\n",
       "      <th>Logistic Regression (New Parameters)</th>\n",
       "      <td>0.889400</td>\n",
       "      <td>0.923825</td>\n",
       "      <td>0.899538</td>\n",
       "      <td>0.911520</td>\n",
       "      <td>0.958597</td>\n",
       "    </tr>\n",
       "    <tr>\n",
       "      <th>XGBoost (New Parameters)</th>\n",
       "      <td>0.904775</td>\n",
       "      <td>0.926285</td>\n",
       "      <td>0.923104</td>\n",
       "      <td>0.924692</td>\n",
       "      <td>0.969416</td>\n",
       "    </tr>\n",
       "  </tbody>\n",
       "</table>\n",
       "</div>"
      ],
      "text/plain": [
       "                                      Accuracy:   Precision:   Recall:   \\\n",
       "Classification Tree                     0.857600     0.889484  0.885130   \n",
       "K-Nearest Neighbors                     0.734950     0.797056  0.780129   \n",
       "Logistic Regression                     0.847600     0.872391  0.889472   \n",
       "XGBoost                                 0.816500     0.822721  0.905341   \n",
       "Classification Tree (New Parameters)    0.834275     0.902167  0.828129   \n",
       "K-Nearest Neighbors (New Parameters)    0.775375     0.836019  0.802787   \n",
       "Logistic Regression (New Parameters)    0.889400     0.923825  0.899538   \n",
       "XGBoost (New Parameters)                0.904775     0.926285  0.923104   \n",
       "\n",
       "                                          F1:      AUC:   \n",
       "Classification Tree                   0.887302  0.847590  \n",
       "K-Nearest Neighbors                   0.788501  0.800260  \n",
       "Logistic Regression                   0.880849  0.929850  \n",
       "XGBoost                               0.862056  0.908923  \n",
       "Classification Tree (New Parameters)  0.863564  0.907411  \n",
       "K-Nearest Neighbors (New Parameters)  0.819066  0.765408  \n",
       "Logistic Regression (New Parameters)  0.911520  0.958597  \n",
       "XGBoost (New Parameters)              0.924692  0.969416  "
      ]
     },
     "execution_count": 176,
     "metadata": {},
     "output_type": "execute_result"
    }
   ],
   "source": [
    "comparing_classification_models"
   ]
  },
  {
   "cell_type": "markdown",
   "metadata": {},
   "source": [
    "THE INCLUSION OF NEW PARAMETERS SHOW US THAT OUR MODELS FIT THE DATA BETTER. THE MODEL THAT HAS A WORST FIT AFTER ADDING NEW PARAMETERS THE **CLASSIFICATION TREE**"
   ]
  },
  {
   "cell_type": "markdown",
   "metadata": {},
   "source": [
    "## **Exercise 4**\n",
    "**STATEMENT:** Compare your performance using the train/test or cross-validation approach.\n",
    "\n",
    "WE WILL USE THE **TRAIN/TEST** FOR THE FOLLOWING MODELS:\n",
    "\n",
    "+ **CLASSIFICATION TREE**\n",
    "+ **LOGISTIC REGRESSION**\n",
    "\n",
    "WE WILL USE THE CROSS-VALIDATION FOR THE FOLLOWING MODELS:\n",
    "\n",
    "+ **K-NEAREST NEIGHBORS**\n",
    "+ **XGBOOST**"
   ]
  },
  {
   "cell_type": "code",
   "execution_count": 177,
   "metadata": {},
   "outputs": [
    {
     "data": {
      "text/plain": [
       "array([[1124., 1221., 1095., ...,   45.,    9.,  251.],\n",
       "       [1152., 1555., 1690., ...,  153.,   22., 1121.],\n",
       "       [1226., 1405., 5615., ...,   79.,   16.,  528.],\n",
       "       ...,\n",
       "       [1236., 1315.,  657., ...,   24.,   11.,  120.],\n",
       "       [ 956., 1227.,  682., ...,  133.,   11.,  978.],\n",
       "       [1810., 2011.,  654., ...,   51.,   10.,  347.]])"
      ]
     },
     "execution_count": 177,
     "metadata": {},
     "output_type": "execute_result"
    }
   ],
   "source": [
    "# We show X without split\n",
    "X"
   ]
  },
  {
   "cell_type": "markdown",
   "metadata": {},
   "source": []
  },
  {
   "cell_type": "code",
   "execution_count": 178,
   "metadata": {},
   "outputs": [
    {
     "data": {
      "text/plain": [
       "array([0, 1, 0, ..., 0, 0, 0])"
      ]
     },
     "execution_count": 178,
     "metadata": {},
     "output_type": "execute_result"
    }
   ],
   "source": [
    "# We show y without split\n",
    "y"
   ]
  },
  {
   "cell_type": "markdown",
   "metadata": {},
   "source": [
    "### **CLASSIFICATION TREE (X/Y)**\n",
    "\n",
    "WE WILL USE THE FIRST MODEL BECAUSE IT HAS A BETTER FIT"
   ]
  },
  {
   "cell_type": "code",
   "execution_count": 179,
   "metadata": {},
   "outputs": [
    {
     "data": {
      "image/png": "[encoded data removed]",
      "text/plain": [
       "<Figure size 720x360 with 2 Axes>"
      ]
     },
     "metadata": {
      "needs_background": "light"
     },
     "output_type": "display_data"
    },
    {
     "name": "stdout",
     "output_type": "stream",
     "text": [
      "                           Accuracy:   Precision:   Recall:   F1:   AUC: \n",
      "Classification Tree (X/Y)         1.0          1.0       1.0   1.0    1.0\n"
     ]
    }
   ],
   "source": [
    "# Model 1. Classification Tree (X/Y)\n",
    "\n",
    "# Object\n",
    "classification_tree_x_y = DecisionTreeClassifier()\n",
    "\n",
    "# Train the model\n",
    "classification_tree_x_y_model = classification_tree_x_y.fit(X,y)\n",
    "\n",
    "# Predictions\n",
    "y_pred_x_y = classification_tree_x_y_model.predict(X)\n",
    "y_pred_proba_x_y = classification_tree_x_y_model.predict_proba(X)[::,1]\n",
    "\n",
    "confusion_matrix_classification(y, y_pred_x_y, y_pred_proba_x_y, 'Classification Tree (X/Y)')"
   ]
  },
  {
   "cell_type": "markdown",
   "metadata": {},
   "source": [
    "WE CLEARLY SEE HOW IT IS OVERFITTED, SINCE ALL THE DATA USED IN THE TRAINING SERVE TO PREDICT THE RESPONSE."
   ]
  },
  {
   "cell_type": "markdown",
   "metadata": {},
   "source": [
    "### **LOGISTIC REGRESSION (X/Y)**"
   ]
  },
  {
   "cell_type": "code",
   "execution_count": 180,
   "metadata": {},
   "outputs": [
    {
     "data": {
      "image/png": "[encoded data removed]",
      "text/plain": [
       "<Figure size 720x360 with 2 Axes>"
      ]
     },
     "metadata": {
      "needs_background": "light"
     },
     "output_type": "display_data"
    },
    {
     "name": "stdout",
     "output_type": "stream",
     "text": [
      "                           Accuracy:   Precision:   Recall:      F1:   \\\n",
      "Logistic Regression (X/Y)    0.891325     0.924559  0.900927  0.91259   \n",
      "\n",
      "                              AUC:   \n",
      "Logistic Regression (X/Y)  0.959763  \n"
     ]
    }
   ],
   "source": [
    "# Model 3. Logistic Regression (X/Y)\n",
    "\n",
    "# Object\n",
    "logistic_regression_x_y = LogisticRegression(penalty = 'l2', solver = 'liblinear', max_iter=300, random_state = 42)\n",
    "\n",
    "# Train the model\n",
    "logistic_regression_x_y_model = logistic_regression_x_y.fit(X, y)\n",
    "\n",
    "# Predictions\n",
    "y_pred_LR_x_y = logistic_regression_x_y_model.predict(X)\n",
    "y_pred_proba_LR_x_y = logistic_regression_x_y_model.predict_proba(X)[::,1]\n",
    "\n",
    "# Logistic Regression results (Confusion Matrix)\n",
    "confusion_matrix_classification(y, y_pred_LR_x_y, y_pred_proba_LR_x_y, 'Logistic Regression (X/Y)')"
   ]
  },
  {
   "cell_type": "markdown",
   "metadata": {},
   "source": [
    "### **K-NEAREST NEIGHBORS (CROSS-VALIDATION)**\n",
    "\n",
    "TO BUILD ROBUST MODELS IS COMMON TO DO A K-FOLD CROSS VALIDATION, WHERE ALL ENTRIES FROM THE ORIGINAL TRAINING DATASET ARE USED FOR TRAINING AS WELL AS FOR VALIDATION. FOR THIS WE WILL USE THE **'CV'** METHOD. WE WILL HAVE TO SPECIFY THE **'N-FOLDS'** WHICH IS THE NUMBER OF CROSS VALIDATION SETS WE WANT."
   ]
  },
  {
   "cell_type": "code",
   "execution_count": 181,
   "metadata": {},
   "outputs": [
    {
     "name": "stdout",
     "output_type": "stream",
     "text": [
      "Accuracy: mean 0.782 std(0.003)\n"
     ]
    }
   ],
   "source": [
    "# Model 2. K-Nearest Neighbors (Cross Validation)\n",
    "\n",
    "k_nearest_neighbors_parameters = KNeighborsClassifier(n_neighbors= 1, weights='distance', algorithm='ball_tree')\n",
    "\n",
    "cross_validation = KFold(n_splits=10, random_state =42, shuffle= True)\n",
    "scores =  cross_val_score(k_nearest_neighbors_parameters, X , y, scoring= 'accuracy', cv = cross_validation)\n",
    "print('Accuracy: mean %.3f std(%.3f)' % (np.mean(scores), np.std(scores)))"
   ]
  },
  {
   "cell_type": "markdown",
   "metadata": {},
   "source": [
    "### **XGBOOST**"
   ]
  },
  {
   "cell_type": "code",
   "execution_count": 182,
   "metadata": {},
   "outputs": [],
   "source": [
    "# Model 4. XGBoost (Cross Validation)\n",
    "\n",
    "# Convert the dataset to an optimized data structure\n",
    "data_dmatrix = xgb.DMatrix(data= X, label=y)\n",
    "\n",
    "# Parameters\n",
    "params = {'objective': 'binary:logistic', 'colsample_bytree':0.3, 'learning_rate': 0.1,\n",
    "          'max_depth': 5, 'alpha':10} # We could put it directly in the CV function\n",
    "\n",
    "cv_results = xgb.cv(dtrain= data_dmatrix, params= params, nfold = 3, \n",
    "num_boost_round=50, early_stopping_rounds=10, metrics = 'rmse', as_pandas =True, seed = 42)\n"
   ]
  },
  {
   "cell_type": "code",
   "execution_count": 183,
   "metadata": {},
   "outputs": [
    {
     "data": {
      "text/html": [
       "<div>\n",
       "<style scoped>\n",
       "    .dataframe tbody tr th:only-of-type {\n",
       "        vertical-align: middle;\n",
       "    }\n",
       "\n",
       "    .dataframe tbody tr th {\n",
       "        vertical-align: top;\n",
       "    }\n",
       "\n",
       "    .dataframe thead th {\n",
       "        text-align: right;\n",
       "    }\n",
       "</style>\n",
       "<table border=\"1\" class=\"dataframe\">\n",
       "  <thead>\n",
       "    <tr style=\"text-align: right;\">\n",
       "      <th></th>\n",
       "      <th>train-rmse-mean</th>\n",
       "      <th>train-rmse-std</th>\n",
       "      <th>test-rmse-mean</th>\n",
       "      <th>test-rmse-std</th>\n",
       "    </tr>\n",
       "  </thead>\n",
       "  <tbody>\n",
       "    <tr>\n",
       "      <th>0</th>\n",
       "      <td>0.473511</td>\n",
       "      <td>0.000105</td>\n",
       "      <td>0.473551</td>\n",
       "      <td>0.000067</td>\n",
       "    </tr>\n",
       "    <tr>\n",
       "      <th>1</th>\n",
       "      <td>0.469979</td>\n",
       "      <td>0.000451</td>\n",
       "      <td>0.470072</td>\n",
       "      <td>0.000502</td>\n",
       "    </tr>\n",
       "    <tr>\n",
       "      <th>2</th>\n",
       "      <td>0.454314</td>\n",
       "      <td>0.008694</td>\n",
       "      <td>0.454370</td>\n",
       "      <td>0.008887</td>\n",
       "    </tr>\n",
       "    <tr>\n",
       "      <th>3</th>\n",
       "      <td>0.451767</td>\n",
       "      <td>0.008556</td>\n",
       "      <td>0.451882</td>\n",
       "      <td>0.008714</td>\n",
       "    </tr>\n",
       "    <tr>\n",
       "      <th>4</th>\n",
       "      <td>0.444121</td>\n",
       "      <td>0.014357</td>\n",
       "      <td>0.444204</td>\n",
       "      <td>0.014581</td>\n",
       "    </tr>\n",
       "  </tbody>\n",
       "</table>\n",
       "</div>"
      ],
      "text/plain": [
       "   train-rmse-mean  train-rmse-std  test-rmse-mean  test-rmse-std\n",
       "0         0.473511        0.000105        0.473551       0.000067\n",
       "1         0.469979        0.000451        0.470072       0.000502\n",
       "2         0.454314        0.008694        0.454370       0.008887\n",
       "3         0.451767        0.008556        0.451882       0.008714\n",
       "4         0.444121        0.014357        0.444204       0.014581"
      ]
     },
     "execution_count": 183,
     "metadata": {},
     "output_type": "execute_result"
    }
   ],
   "source": [
    "# We look at the RMSE training and testing metrics for each round of effort\n",
    "cv_results.head()"
   ]
  },
  {
   "cell_type": "code",
   "execution_count": 184,
   "metadata": {},
   "outputs": [
    {
     "data": {
      "text/plain": [
       "49    0.326482\n",
       "Name: test-rmse-mean, dtype: float64"
      ]
     },
     "execution_count": 184,
     "metadata": {},
     "output_type": "execute_result"
    }
   ],
   "source": [
    "# Extract the last metric\n",
    "cv_results['test-rmse-mean'].tail(1)"
   ]
  },
  {
   "cell_type": "markdown",
   "metadata": {},
   "source": [
    "WE CAN SEE HOW THE **RMSE** FOR FLIGHT DELAYS HAS BEEN REDUCED COMPARED TO THE FIRST TIME."
   ]
  },
  {
   "cell_type": "markdown",
   "metadata": {},
   "source": [
    "## **Exercise 5**\n",
    "**STATEMENT:** Perform some variable engineering process to improve prediction"
   ]
  },
  {
   "cell_type": "markdown",
   "metadata": {},
   "source": [
    "### **IMBALANCED DATASET (SMOTE)**\n",
    "\n",
    "INSTEAD OF GENERATING NEW SYNTHETIC BLINDLY EXAMPLES FOR THE MINORITY CLASS, WE WILL USE THE **BORDERLINE - SMOTE** METHOD TO CREATE SYNTHETIC EXAMPLES AT THE DECISION BOUNDARY BETWEEN THE TWO CLASSES."
   ]
  },
  {
   "cell_type": "code",
   "execution_count": 185,
   "metadata": {},
   "outputs": [
    {
     "data": {
      "text/html": [
       "<div>\n",
       "<style scoped>\n",
       "    .dataframe tbody tr th:only-of-type {\n",
       "        vertical-align: middle;\n",
       "    }\n",
       "\n",
       "    .dataframe tbody tr th {\n",
       "        vertical-align: top;\n",
       "    }\n",
       "\n",
       "    .dataframe thead th {\n",
       "        text-align: right;\n",
       "    }\n",
       "</style>\n",
       "<table border=\"1\" class=\"dataframe\">\n",
       "  <thead>\n",
       "    <tr style=\"text-align: right;\">\n",
       "      <th></th>\n",
       "      <th>DepTime</th>\n",
       "      <th>ArrTime</th>\n",
       "      <th>FlightNum</th>\n",
       "      <th>ActualElapsedTime</th>\n",
       "      <th>AirTime</th>\n",
       "      <th>ArrDelay</th>\n",
       "      <th>DepDelay</th>\n",
       "      <th>Distance</th>\n",
       "    </tr>\n",
       "  </thead>\n",
       "  <tbody>\n",
       "    <tr>\n",
       "      <th>403778</th>\n",
       "      <td>1124</td>\n",
       "      <td>1221.0</td>\n",
       "      <td>1095</td>\n",
       "      <td>57.0</td>\n",
       "      <td>45.0</td>\n",
       "      <td>0</td>\n",
       "      <td>9</td>\n",
       "      <td>251</td>\n",
       "    </tr>\n",
       "    <tr>\n",
       "      <th>1397595</th>\n",
       "      <td>1152</td>\n",
       "      <td>1555.0</td>\n",
       "      <td>1690</td>\n",
       "      <td>183.0</td>\n",
       "      <td>153.0</td>\n",
       "      <td>1</td>\n",
       "      <td>22</td>\n",
       "      <td>1121</td>\n",
       "    </tr>\n",
       "    <tr>\n",
       "      <th>1849546</th>\n",
       "      <td>1226</td>\n",
       "      <td>1405.0</td>\n",
       "      <td>5615</td>\n",
       "      <td>99.0</td>\n",
       "      <td>79.0</td>\n",
       "      <td>0</td>\n",
       "      <td>16</td>\n",
       "      <td>528</td>\n",
       "    </tr>\n",
       "    <tr>\n",
       "      <th>18418</th>\n",
       "      <td>2046</td>\n",
       "      <td>2158.0</td>\n",
       "      <td>1274</td>\n",
       "      <td>132.0</td>\n",
       "      <td>103.0</td>\n",
       "      <td>1</td>\n",
       "      <td>56</td>\n",
       "      <td>629</td>\n",
       "    </tr>\n",
       "    <tr>\n",
       "      <th>1805454</th>\n",
       "      <td>1759</td>\n",
       "      <td>2026.0</td>\n",
       "      <td>6180</td>\n",
       "      <td>87.0</td>\n",
       "      <td>71.0</td>\n",
       "      <td>1</td>\n",
       "      <td>50</td>\n",
       "      <td>495</td>\n",
       "    </tr>\n",
       "  </tbody>\n",
       "</table>\n",
       "</div>"
      ],
      "text/plain": [
       "         DepTime  ArrTime  FlightNum  ActualElapsedTime  AirTime  ArrDelay  \\\n",
       "403778      1124   1221.0       1095               57.0     45.0         0   \n",
       "1397595     1152   1555.0       1690              183.0    153.0         1   \n",
       "1849546     1226   1405.0       5615               99.0     79.0         0   \n",
       "18418       2046   2158.0       1274              132.0    103.0         1   \n",
       "1805454     1759   2026.0       6180               87.0     71.0         1   \n",
       "\n",
       "         DepDelay  Distance  \n",
       "403778          9       251  \n",
       "1397595        22      1121  \n",
       "1849546        16       528  \n",
       "18418          56       629  \n",
       "1805454        50       495  "
      ]
     },
     "execution_count": 185,
     "metadata": {},
     "output_type": "execute_result"
    }
   ],
   "source": [
    "# Our dataset\n",
    "numerical_airlines.head()"
   ]
  },
  {
   "cell_type": "code",
   "execution_count": 186,
   "metadata": {},
   "outputs": [
    {
     "data": {
      "text/plain": [
       "1    62.97\n",
       "0    37.03\n",
       "Name: ArrDelay, dtype: float64"
      ]
     },
     "execution_count": 186,
     "metadata": {},
     "output_type": "execute_result"
    }
   ],
   "source": [
    "# We see the distribution of delays\n",
    "round((numerical_airlines.ArrDelay.value_counts()/len(numerical_airlines.ArrDelay))*100,2)"
   ]
  },
  {
   "cell_type": "markdown",
   "metadata": {},
   "source": [
    "FOR EVERY 6 PLANES THAT ARRIVE LATE, 4 ARE ON TIME. WE HAVE A 6:4. SO THE DATA ARE UNBALANCED AND WE WILL USE THE **'SMOTE'** TECHNIQUE TO SOLVE THIS BIAS."
   ]
  },
  {
   "cell_type": "code",
   "execution_count": 187,
   "metadata": {},
   "outputs": [
    {
     "name": "stdout",
     "output_type": "stream",
     "text": [
      "Counter({1: 125938, 0: 74062})\n",
      "Counter({0: 125938, 1: 125938})\n"
     ]
    },
    {
     "data": {
      "image/png": "[encoded data removed]",
      "text/plain": [
       "<Figure size 432x288 with 1 Axes>"
      ]
     },
     "metadata": {
      "needs_background": "light"
     },
     "output_type": "display_data"
    }
   ],
   "source": [
    "# SMOTE WITH SELECTIVE GENERATION OF SYNTHETIC SAMPLES (LIMIT SMOTE)\n",
    "\n",
    "# Variables predictoras\n",
    "X = numerical_airlines.drop(['ArrDelay'], axis = 1).values\n",
    "\n",
    "# Variable target\n",
    "y = numerical_airlines['ArrDelay'].values\n",
    "\n",
    "# Summarize distribution of class\n",
    "counter = Counter(y)\n",
    "print(counter)\n",
    "\n",
    "# Transfom the dataset\n",
    "oversample = BorderlineSMOTE()\n",
    "X, y = oversample.fit_resample(X,y)\n",
    "\n",
    "# Summarize new distribution of class\n",
    "counter = Counter(y)\n",
    "print(counter)\n",
    "\n",
    "# Scatterplot\n",
    "for label, _ in counter.items():\n",
    "  row_ix = np.where(y ==label)[0]\n",
    "  plt.scatter(X[row_ix, 0], X[row_ix, 1], label = str(label))\n",
    "plt.legend()\n",
    "plt.show()\n"
   ]
  },
  {
   "cell_type": "markdown",
   "metadata": {},
   "source": [
    "### **STANDARDIZATION**"
   ]
  },
  {
   "cell_type": "code",
   "execution_count": 188,
   "metadata": {},
   "outputs": [
    {
     "data": {
      "text/html": [
       "<div>\n",
       "<style scoped>\n",
       "    .dataframe tbody tr th:only-of-type {\n",
       "        vertical-align: middle;\n",
       "    }\n",
       "\n",
       "    .dataframe tbody tr th {\n",
       "        vertical-align: top;\n",
       "    }\n",
       "\n",
       "    .dataframe thead th {\n",
       "        text-align: right;\n",
       "    }\n",
       "</style>\n",
       "<table border=\"1\" class=\"dataframe\">\n",
       "  <thead>\n",
       "    <tr style=\"text-align: right;\">\n",
       "      <th></th>\n",
       "      <th>DepTime</th>\n",
       "      <th>ArrTime</th>\n",
       "      <th>FlightNum</th>\n",
       "      <th>ActualElapsedTime</th>\n",
       "      <th>AirTime</th>\n",
       "      <th>DepDelay</th>\n",
       "      <th>Distance</th>\n",
       "      <th>ArrDelay</th>\n",
       "    </tr>\n",
       "  </thead>\n",
       "  <tbody>\n",
       "    <tr>\n",
       "      <th>0</th>\n",
       "      <td>-0.863813</td>\n",
       "      <td>-0.726344</td>\n",
       "      <td>-0.569747</td>\n",
       "      <td>-1.050149</td>\n",
       "      <td>-0.921978</td>\n",
       "      <td>-0.567635</td>\n",
       "      <td>-0.900614</td>\n",
       "      <td>0</td>\n",
       "    </tr>\n",
       "    <tr>\n",
       "      <th>1</th>\n",
       "      <td>-0.801292</td>\n",
       "      <td>-0.105195</td>\n",
       "      <td>-0.264170</td>\n",
       "      <td>0.711529</td>\n",
       "      <td>0.656943</td>\n",
       "      <td>-0.303765</td>\n",
       "      <td>0.615190</td>\n",
       "      <td>1</td>\n",
       "    </tr>\n",
       "    <tr>\n",
       "      <th>2</th>\n",
       "      <td>-0.636056</td>\n",
       "      <td>-0.384154</td>\n",
       "      <td>1.751613</td>\n",
       "      <td>-0.462923</td>\n",
       "      <td>-0.424910</td>\n",
       "      <td>-0.425551</td>\n",
       "      <td>-0.417996</td>\n",
       "      <td>0</td>\n",
       "    </tr>\n",
       "  </tbody>\n",
       "</table>\n",
       "</div>"
      ],
      "text/plain": [
       "    DepTime   ArrTime  FlightNum  ActualElapsedTime   AirTime  DepDelay  \\\n",
       "0 -0.863813 -0.726344  -0.569747          -1.050149 -0.921978 -0.567635   \n",
       "1 -0.801292 -0.105195  -0.264170           0.711529  0.656943 -0.303765   \n",
       "2 -0.636056 -0.384154   1.751613          -0.462923 -0.424910 -0.425551   \n",
       "\n",
       "   Distance  ArrDelay  \n",
       "0 -0.900614         0  \n",
       "1  0.615190         1  \n",
       "2 -0.417996         0  "
      ]
     },
     "execution_count": 188,
     "metadata": {},
     "output_type": "execute_result"
    }
   ],
   "source": [
    "# Standardization\n",
    "\n",
    "scaler = StandardScaler()\n",
    "X_scaled = pd.DataFrame(scaler.fit_transform(X), columns = ['DepTime','ArrTime','FlightNum','ActualElapsedTime','AirTime','DepDelay','Distance'])\n",
    "y = pd.DataFrame(y, columns = ['ArrDelay'])\n",
    "numerical_airlines_scaled = pd.concat([X_scaled, y], axis = 1)\n",
    "numerical_airlines_scaled.head(3)"
   ]
  },
  {
   "cell_type": "markdown",
   "metadata": {},
   "source": [
    "WE TEST THE MODELS TO SEE IF THERE HAVE BEEN IMPROVEMENTS"
   ]
  },
  {
   "cell_type": "code",
   "execution_count": 189,
   "metadata": {},
   "outputs": [
    {
     "name": "stdout",
     "output_type": "stream",
     "text": [
      "  X_train shape:  X_test shape:  y_train shape:  y_test shape: \n",
      "0     (201500, 7)     (50376, 7)       (201500,)       (50376,)\n"
     ]
    }
   ],
   "source": [
    "# Split the dataset\n",
    "X_y_and_split(numerical_airlines_scaled)"
   ]
  },
  {
   "cell_type": "markdown",
   "metadata": {},
   "source": [
    "### **CLASSIFICATION TREE (FEATURE ENGINEERING)**"
   ]
  },
  {
   "cell_type": "code",
   "execution_count": 190,
   "metadata": {},
   "outputs": [
    {
     "data": {
      "image/png": "[encoded data removed]",
      "text/plain": [
       "<Figure size 720x360 with 2 Axes>"
      ]
     },
     "metadata": {
      "needs_background": "light"
     },
     "output_type": "display_data"
    },
    {
     "name": "stdout",
     "output_type": "stream",
     "text": [
      "                                           Accuracy:   Precision:   Recall:   \\\n",
      "Classification Tree (Feature Engiinering)    0.880141     0.878665  0.878806   \n",
      "\n",
      "                                               F1:      AUC:   \n",
      "Classification Tree (Feature Engiinering)  0.878736  0.880126  \n"
     ]
    }
   ],
   "source": [
    "# Model 1. Classification Tree (DT_enginnering)\n",
    "\n",
    "# Object\n",
    "classification_tree_engineering = DecisionTreeClassifier() # Without hyperparameterization\n",
    "\n",
    "# Train the model\n",
    "classification_tree_engineering_model= classification_tree_engineering.fit(X_train, y_train)\n",
    "\n",
    "# Predictions\n",
    "y_pred_DT_engineering = classification_tree_engineering_model.predict(X_test)\n",
    "y_pred_prob_DT_engineering = classification_tree_engineering_model.predict_proba(X_test)[::,1] \n",
    "\n",
    "# Classification Tree results (Confusion Matrix)\n",
    "confusion_matrix_classification(y_test, y_pred_DT_engineering, y_pred_prob_DT_engineering, 'Classification Tree (Feature Engiinering)')"
   ]
  },
  {
   "cell_type": "markdown",
   "metadata": {},
   "source": [
    "### **K-NEAREST NEIGHBORS (FEATURE ENGINEERING)**"
   ]
  },
  {
   "cell_type": "code",
   "execution_count": 191,
   "metadata": {},
   "outputs": [
    {
     "data": {
      "image/png": "[encoded data removed]",
      "text/plain": [
       "<Figure size 720x360 with 2 Axes>"
      ]
     },
     "metadata": {
      "needs_background": "light"
     },
     "output_type": "display_data"
    },
    {
     "name": "stdout",
     "output_type": "stream",
     "text": [
      "                                           Accuracy:   Precision:   Recall:   \\\n",
      "K-Nearest Neighbors (Feature Engineering)    0.902315     0.934064   0.86326   \n",
      "\n",
      "                                               F1:      AUC:   \n",
      "K-Nearest Neighbors (Feature Engineering)  0.897267  0.901864  \n"
     ]
    }
   ],
   "source": [
    "# Model 2. K-Nearest Neighbors (KNN_enginnering)\n",
    "\n",
    "# Object\n",
    "k_nearest_neighbors_engineering = KNeighborsClassifier(n_neighbors= 1, weights='distance', algorithm='ball_tree')\n",
    "\n",
    "# Train the model\n",
    "k_nearest_neighbors_engineering_model = k_nearest_neighbors_engineering.fit(X_train, y_train)\n",
    "\n",
    "# Predictions\n",
    "y_pred_KNN_engineering = k_nearest_neighbors_engineering_model.predict(X_test)\n",
    "y_pred_prob_KNN_engineering = k_nearest_neighbors_engineering_model.predict_proba(X_test)[::,1]\n",
    "\n",
    "# K-Nearest Neighbors results (Confusion Matrix)\n",
    "confusion_matrix_classification(y_test, y_pred_KNN_engineering, y_pred_prob_KNN_engineering, 'K-Nearest Neighbors (Feature Engineering)')"
   ]
  },
  {
   "cell_type": "markdown",
   "metadata": {},
   "source": [
    "### **LOGISTIC REGRESSION (FEATURE ENGINEERING)**"
   ]
  },
  {
   "cell_type": "code",
   "execution_count": 192,
   "metadata": {},
   "outputs": [
    {
     "data": {
      "image/png": "[encoded data removed]",
      "text/plain": [
       "<Figure size 720x360 with 2 Axes>"
      ]
     },
     "metadata": {
      "needs_background": "light"
     },
     "output_type": "display_data"
    },
    {
     "name": "stdout",
     "output_type": "stream",
     "text": [
      "                                           Accuracy:   Precision:   Recall:   \\\n",
      "Logistic Regression (Feature Engineering)    0.890265     0.915794  0.856712   \n",
      "\n",
      "                                               F1:     AUC:   \n",
      "Logistic Regression (Feature Engineering)  0.885268  0.95855  \n"
     ]
    }
   ],
   "source": [
    "# Model 3. Logistic Regression (LR_enginnering)\n",
    "\n",
    "# Object\n",
    "logistic_regression_enginnering= LogisticRegression(penalty = 'l2', solver = 'liblinear', max_iter=300, random_state = 42)\n",
    "\n",
    "# Train the model\n",
    "logistic_regression_enginnering_model = logistic_regression_enginnering.fit(X_train, y_train)\n",
    "\n",
    "# Predictions\n",
    "y_pred_LR_enginnering = logistic_regression_enginnering_model.predict(X_test)\n",
    "y_pred_proba_LR_enginnering = logistic_regression_enginnering_model.predict_proba(X_test)[::,1]\n",
    "\n",
    "# Logistic Regression results (Confusion Matrix)\n",
    "confusion_matrix_classification(y_test, y_pred_LR_enginnering, y_pred_proba_LR_enginnering, 'Logistic Regression (Feature Engineering)')"
   ]
  },
  {
   "cell_type": "markdown",
   "metadata": {},
   "source": [
    "### **XGBOOST (FEATUE ENGINEERING)**"
   ]
  },
  {
   "cell_type": "code",
   "execution_count": 193,
   "metadata": {},
   "outputs": [
    {
     "name": "stdout",
     "output_type": "stream",
     "text": [
      "RMSE; 0.282067\n"
     ]
    },
    {
     "data": {
      "image/png": "[encoded data removed]",
      "text/plain": [
       "<Figure size 720x360 with 2 Axes>"
      ]
     },
     "metadata": {
      "needs_background": "light"
     },
     "output_type": "display_data"
    },
    {
     "name": "stdout",
     "output_type": "stream",
     "text": [
      "                               Accuracy:   Precision:   Recall:     F1:   \\\n",
      "XGBoost (Feature Enginnering)    0.920438     0.930036  0.907247  0.9185   \n",
      "\n",
      "                                  AUC:   \n",
      "XGBoost (Feature Enginnering)  0.980003  \n"
     ]
    }
   ],
   "source": [
    "# Model 4. XGBoost (XGB_engineering)\n",
    "\n",
    "# Object\n",
    "xgboost_engineering = xgb.XGBClassifier(base_score=0.5, colsample_bylevel=1, colsample_bytree=1,\n",
    "       gamma=0, learning_rate=0.1, max_delta_step=0, max_depth=10,\n",
    "       min_child_weight=1, missing=None, n_estimators=100, nthread=-1,\n",
    "       objective='binary:logistic', reg_alpha=0, reg_lambda=1,\n",
    "       scale_pos_weight=1, seed=0, subsample=1, eval_metric = 'logloss',use_label_encoder=False)\n",
    "\n",
    "# Train the model\n",
    "xgboost_engineering_model = xgboost_engineering.fit(X_train, y_train)\n",
    "\n",
    "# Predictions\n",
    "y_pred_XGB_engineering = xgboost_engineering_model.predict(X_test)\n",
    "y_pred_proba_XGB_engineering = xgboost_engineering_model.predict_proba(X_test)[::,1]\n",
    "\n",
    "# RMSE\n",
    "rmse = np.sqrt(mean_squared_error(y_test, y_pred_XGB_engineering))\n",
    "print('RMSE; %f' %(rmse))\n",
    "\n",
    "# XGBoost results (Confusion Matrix)\n",
    "confusion_matrix_classification(y_test, y_pred_XGB_engineering, y_pred_proba_XGB_engineering, 'XGBoost (Feature Enginnering)')"
   ]
  },
  {
   "cell_type": "code",
   "execution_count": 194,
   "metadata": {},
   "outputs": [
    {
     "data": {
      "text/html": [
       "<div>\n",
       "<style scoped>\n",
       "    .dataframe tbody tr th:only-of-type {\n",
       "        vertical-align: middle;\n",
       "    }\n",
       "\n",
       "    .dataframe tbody tr th {\n",
       "        vertical-align: top;\n",
       "    }\n",
       "\n",
       "    .dataframe thead th {\n",
       "        text-align: right;\n",
       "    }\n",
       "</style>\n",
       "<table border=\"1\" class=\"dataframe\">\n",
       "  <thead>\n",
       "    <tr style=\"text-align: right;\">\n",
       "      <th></th>\n",
       "      <th>Accuracy:</th>\n",
       "      <th>Precision:</th>\n",
       "      <th>Recall:</th>\n",
       "      <th>F1:</th>\n",
       "      <th>AUC:</th>\n",
       "    </tr>\n",
       "  </thead>\n",
       "  <tbody>\n",
       "    <tr>\n",
       "      <th>Classification Tree</th>\n",
       "      <td>0.857600</td>\n",
       "      <td>0.889484</td>\n",
       "      <td>0.885130</td>\n",
       "      <td>0.887302</td>\n",
       "      <td>0.847590</td>\n",
       "    </tr>\n",
       "    <tr>\n",
       "      <th>K-Nearest Neighbors</th>\n",
       "      <td>0.734950</td>\n",
       "      <td>0.797056</td>\n",
       "      <td>0.780129</td>\n",
       "      <td>0.788501</td>\n",
       "      <td>0.800260</td>\n",
       "    </tr>\n",
       "    <tr>\n",
       "      <th>Logistic Regression</th>\n",
       "      <td>0.847600</td>\n",
       "      <td>0.872391</td>\n",
       "      <td>0.889472</td>\n",
       "      <td>0.880849</td>\n",
       "      <td>0.929850</td>\n",
       "    </tr>\n",
       "    <tr>\n",
       "      <th>XGBoost</th>\n",
       "      <td>0.816500</td>\n",
       "      <td>0.822721</td>\n",
       "      <td>0.905341</td>\n",
       "      <td>0.862056</td>\n",
       "      <td>0.908923</td>\n",
       "    </tr>\n",
       "    <tr>\n",
       "      <th>Classification Tree (New Parameters)</th>\n",
       "      <td>0.834275</td>\n",
       "      <td>0.902167</td>\n",
       "      <td>0.828129</td>\n",
       "      <td>0.863564</td>\n",
       "      <td>0.907411</td>\n",
       "    </tr>\n",
       "    <tr>\n",
       "      <th>K-Nearest Neighbors (New Parameters)</th>\n",
       "      <td>0.775375</td>\n",
       "      <td>0.836019</td>\n",
       "      <td>0.802787</td>\n",
       "      <td>0.819066</td>\n",
       "      <td>0.765408</td>\n",
       "    </tr>\n",
       "    <tr>\n",
       "      <th>Logistic Regression (New Parameters)</th>\n",
       "      <td>0.889400</td>\n",
       "      <td>0.923825</td>\n",
       "      <td>0.899538</td>\n",
       "      <td>0.911520</td>\n",
       "      <td>0.958597</td>\n",
       "    </tr>\n",
       "    <tr>\n",
       "      <th>XGBoost (New Parameters)</th>\n",
       "      <td>0.904775</td>\n",
       "      <td>0.926285</td>\n",
       "      <td>0.923104</td>\n",
       "      <td>0.924692</td>\n",
       "      <td>0.969416</td>\n",
       "    </tr>\n",
       "    <tr>\n",
       "      <th>Classification Tree (X/Y)</th>\n",
       "      <td>1.000000</td>\n",
       "      <td>1.000000</td>\n",
       "      <td>1.000000</td>\n",
       "      <td>1.000000</td>\n",
       "      <td>1.000000</td>\n",
       "    </tr>\n",
       "    <tr>\n",
       "      <th>Logistic Regression (X/Y)</th>\n",
       "      <td>0.891325</td>\n",
       "      <td>0.924559</td>\n",
       "      <td>0.900927</td>\n",
       "      <td>0.912590</td>\n",
       "      <td>0.959763</td>\n",
       "    </tr>\n",
       "    <tr>\n",
       "      <th>Classification Tree (Feature Engiinering)</th>\n",
       "      <td>0.880141</td>\n",
       "      <td>0.878665</td>\n",
       "      <td>0.878806</td>\n",
       "      <td>0.878736</td>\n",
       "      <td>0.880126</td>\n",
       "    </tr>\n",
       "    <tr>\n",
       "      <th>K-Nearest Neighbors (Feature Engineering)</th>\n",
       "      <td>0.902315</td>\n",
       "      <td>0.934064</td>\n",
       "      <td>0.863260</td>\n",
       "      <td>0.897267</td>\n",
       "      <td>0.901864</td>\n",
       "    </tr>\n",
       "    <tr>\n",
       "      <th>Logistic Regression (Feature Engineering)</th>\n",
       "      <td>0.890265</td>\n",
       "      <td>0.915794</td>\n",
       "      <td>0.856712</td>\n",
       "      <td>0.885268</td>\n",
       "      <td>0.958550</td>\n",
       "    </tr>\n",
       "    <tr>\n",
       "      <th>XGBoost (Feature Enginnering)</th>\n",
       "      <td>0.920438</td>\n",
       "      <td>0.930036</td>\n",
       "      <td>0.907247</td>\n",
       "      <td>0.918500</td>\n",
       "      <td>0.980003</td>\n",
       "    </tr>\n",
       "  </tbody>\n",
       "</table>\n",
       "</div>"
      ],
      "text/plain": [
       "                                           Accuracy:   Precision:   Recall:   \\\n",
       "Classification Tree                          0.857600     0.889484  0.885130   \n",
       "K-Nearest Neighbors                          0.734950     0.797056  0.780129   \n",
       "Logistic Regression                          0.847600     0.872391  0.889472   \n",
       "XGBoost                                      0.816500     0.822721  0.905341   \n",
       "Classification Tree (New Parameters)         0.834275     0.902167  0.828129   \n",
       "K-Nearest Neighbors (New Parameters)         0.775375     0.836019  0.802787   \n",
       "Logistic Regression (New Parameters)         0.889400     0.923825  0.899538   \n",
       "XGBoost (New Parameters)                     0.904775     0.926285  0.923104   \n",
       "Classification Tree (X/Y)                    1.000000     1.000000  1.000000   \n",
       "Logistic Regression (X/Y)                    0.891325     0.924559  0.900927   \n",
       "Classification Tree (Feature Engiinering)    0.880141     0.878665  0.878806   \n",
       "K-Nearest Neighbors (Feature Engineering)    0.902315     0.934064  0.863260   \n",
       "Logistic Regression (Feature Engineering)    0.890265     0.915794  0.856712   \n",
       "XGBoost (Feature Enginnering)                0.920438     0.930036  0.907247   \n",
       "\n",
       "                                               F1:      AUC:   \n",
       "Classification Tree                        0.887302  0.847590  \n",
       "K-Nearest Neighbors                        0.788501  0.800260  \n",
       "Logistic Regression                        0.880849  0.929850  \n",
       "XGBoost                                    0.862056  0.908923  \n",
       "Classification Tree (New Parameters)       0.863564  0.907411  \n",
       "K-Nearest Neighbors (New Parameters)       0.819066  0.765408  \n",
       "Logistic Regression (New Parameters)       0.911520  0.958597  \n",
       "XGBoost (New Parameters)                   0.924692  0.969416  \n",
       "Classification Tree (X/Y)                  1.000000  1.000000  \n",
       "Logistic Regression (X/Y)                  0.912590  0.959763  \n",
       "Classification Tree (Feature Engiinering)  0.878736  0.880126  \n",
       "K-Nearest Neighbors (Feature Engineering)  0.897267  0.901864  \n",
       "Logistic Regression (Feature Engineering)  0.885268  0.958550  \n",
       "XGBoost (Feature Enginnering)              0.918500  0.980003  "
      ]
     },
     "execution_count": 194,
     "metadata": {},
     "output_type": "execute_result"
    }
   ],
   "source": [
    "# Results\n",
    "comparing_classification_models"
   ]
  },
  {
   "cell_type": "markdown",
   "metadata": {},
   "source": [
    "WITHOUT TAKING INTO ACCOUNT THE MODELS (X/Y) WHICH ARE OVERFITTED MODELS BECAUSE THE TRAINING AND TEST DATA ARE THE SAME, WE HAVE BEEN IMPROVING THE MODELS AS WE HAVE ADDED **NEW PARAMETERS** AND **FEATURE ENGINEERING**."
   ]
  },
  {
   "cell_type": "markdown",
   "metadata": {},
   "source": [
    "## **Exercise 6**\n",
    "**STATEMENT:** Do not use Display variable when making predictions"
   ]
  },
  {
   "cell_type": "code",
   "execution_count": 195,
   "metadata": {},
   "outputs": [],
   "source": [
    "# Eliminate 'DepDelay'\n",
    "numerical_airlines_scaled_depdelay = numerical_airlines_scaled.drop(['DepDelay'], axis = 1)"
   ]
  },
  {
   "cell_type": "code",
   "execution_count": 196,
   "metadata": {},
   "outputs": [
    {
     "name": "stdout",
     "output_type": "stream",
     "text": [
      "  X_train shape:  X_test shape:  y_train shape:  y_test shape: \n",
      "0     (201500, 6)     (50376, 6)       (201500,)       (50376,)\n"
     ]
    }
   ],
   "source": [
    "X_y_and_split(numerical_airlines_scaled_depdelay)"
   ]
  },
  {
   "cell_type": "markdown",
   "metadata": {},
   "source": [
    "### **CLASSIFICATION TREE (NO DEPDELAY)**"
   ]
  },
  {
   "cell_type": "code",
   "execution_count": 201,
   "metadata": {},
   "outputs": [
    {
     "data": {
      "image/png": "[encoded data removed]",
      "text/plain": [
       "<Figure size 720x360 with 2 Axes>"
      ]
     },
     "metadata": {
      "needs_background": "light"
     },
     "output_type": "display_data"
    },
    {
     "name": "stdout",
     "output_type": "stream",
     "text": [
      "                                   Accuracy:   Precision:   Recall:   \\\n",
      "Classification Tree (No DepDelay)    0.689118     0.687335  0.680405   \n",
      "\n",
      "                                       F1:      AUC:   \n",
      "Classification Tree (No DepDelay)  0.683852  0.689017  \n"
     ]
    }
   ],
   "source": [
    "# Model 1. Classification Tree (DT_depdelay)\n",
    "\n",
    "# Object\n",
    "classification_tree_depdelay = DecisionTreeClassifier() # Without hyperparameterization\n",
    "\n",
    "# Train the model\n",
    "classification_tree_depdelay_model= classification_tree_depdelay.fit(X_train, y_train)\n",
    "\n",
    "# Predictions\n",
    "y_pred_DT_depdelay = classification_tree_depdelay_model.predict(X_test)\n",
    "y_pred_prob_DT_depdelay = classification_tree_depdelay_model.predict_proba(X_test)[::,1] \n",
    "\n",
    "# Classification Tree results (Confusion Matrix)\n",
    "confusion_matrix_classification(y_test, y_pred_DT_depdelay, y_pred_prob_DT_depdelay, 'Classification Tree (No DepDelay)')\n"
   ]
  },
  {
   "cell_type": "markdown",
   "metadata": {},
   "source": [
    "### **K-NEAREST NEIGHBORS (NO DEPDELAY)**"
   ]
  },
  {
   "cell_type": "code",
   "execution_count": 202,
   "metadata": {},
   "outputs": [
    {
     "data": {
      "image/png": "[encoded data removed]",
      "text/plain": [
       "<Figure size 720x360 with 2 Axes>"
      ]
     },
     "metadata": {
      "needs_background": "light"
     },
     "output_type": "display_data"
    },
    {
     "name": "stdout",
     "output_type": "stream",
     "text": [
      "                                   Accuracy:   Precision:   Recall:   \\\n",
      "K-Nearest Neighbors (No DepDelay)    0.750079     0.790545  0.672411   \n",
      "\n",
      "                                       F1:      AUC:   \n",
      "K-Nearest Neighbors (No DepDelay)  0.726708  0.749183  \n"
     ]
    }
   ],
   "source": [
    "# Model 2. K-Nearest Neighbors (KNN_depdelay)\n",
    "\n",
    "# Object\n",
    "k_nearest_neighbors_depdelay = KNeighborsClassifier(n_neighbors= 1, weights='distance', algorithm='ball_tree')\n",
    "\n",
    "# Train the model\n",
    "k_nearest_neighbors_depdelay_model = k_nearest_neighbors_depdelay.fit(X_train, y_train)\n",
    "\n",
    "# Predictions\n",
    "y_pred_KNN_depdelay = k_nearest_neighbors_depdelay_model.predict(X_test)\n",
    "y_pred_prob_KNN_depdelay = k_nearest_neighbors_depdelay_model.predict_proba(X_test)[::,1]\n",
    "\n",
    "# K-Nearest Neighbors results (Confusion Matrix)\n",
    "confusion_matrix_classification(y_test, y_pred_KNN_depdelay, y_pred_prob_KNN_depdelay, 'K-Nearest Neighbors (No DepDelay)')"
   ]
  },
  {
   "cell_type": "markdown",
   "metadata": {},
   "source": [
    "### **LOGISTIC REGRESSION (NO DEPDELAY)**"
   ]
  },
  {
   "cell_type": "code",
   "execution_count": 204,
   "metadata": {},
   "outputs": [
    {
     "data": {
      "image/png": "[encoded data removed]",
      "text/plain": [
       "<Figure size 720x360 with 2 Axes>"
      ]
     },
     "metadata": {
      "needs_background": "light"
     },
     "output_type": "display_data"
    },
    {
     "name": "stdout",
     "output_type": "stream",
     "text": [
      "                                   Accuracy:   Precision:   Recall:   \\\n",
      "Logistic Regression (No DepDelay)    0.662399     0.681036  0.595927   \n",
      "\n",
      "                                       F1:      AUC:   \n",
      "Logistic Regression (No DepDelay)  0.635645  0.714871  \n"
     ]
    }
   ],
   "source": [
    "# Model 3. Logistic Regression (LR_depdelay)\n",
    "\n",
    "# Object\n",
    "logistic_regression_depdelay = LogisticRegression(penalty = 'l2', solver = 'liblinear', max_iter=300, random_state = 42)\n",
    "\n",
    "# Train the model\n",
    "logistic_regression_depdelay_model = logistic_regression_depdelay.fit(X_train, y_train)\n",
    "\n",
    "# Predictions\n",
    "y_pred_LR_depdelay = logistic_regression_depdelay_model.predict(X_test)\n",
    "y_pred_proba_LR_depdelay = logistic_regression_depdelay_model.predict_proba(X_test)[::,1]\n",
    "\n",
    "# Logistic Regression results (Confusion Matrix)\n",
    "confusion_matrix_classification(y_test, y_pred_LR_depdelay, y_pred_proba_LR_depdelay, 'Logistic Regression (No DepDelay)')"
   ]
  },
  {
   "cell_type": "markdown",
   "metadata": {},
   "source": [
    "### **XGBOOST (NO DEPDELAY)**"
   ]
  },
  {
   "cell_type": "code",
   "execution_count": 205,
   "metadata": {},
   "outputs": [
    {
     "name": "stdout",
     "output_type": "stream",
     "text": [
      "RMSE; 0.515501\n"
     ]
    },
    {
     "data": {
      "image/png": "[encoded data removed]",
      "text/plain": [
       "<Figure size 720x360 with 2 Axes>"
      ]
     },
     "metadata": {
      "needs_background": "light"
     },
     "output_type": "display_data"
    },
    {
     "name": "stdout",
     "output_type": "stream",
     "text": [
      "                       Accuracy:   Precision:   Recall:       F1:      AUC: \n",
      "XGBoost (No DepDelay)    0.734258     0.781772  0.641239  0.704566  0.825558\n"
     ]
    }
   ],
   "source": [
    "# Model 4. XGBoost (XGB__depdelay)\n",
    "\n",
    "# Object\n",
    "xgboost_depdelay = xgb.XGBClassifier(base_score=0.5, colsample_bylevel=1, colsample_bytree=1,\n",
    "       gamma=0, learning_rate=0.1, max_delta_step=0, max_depth=10,\n",
    "       min_child_weight=1, missing=None, n_estimators=100, nthread=-1,\n",
    "       objective='binary:logistic', reg_alpha=0, reg_lambda=1,\n",
    "       scale_pos_weight=1, seed=0, subsample=1, eval_metric = 'logloss',use_label_encoder=False)\n",
    "\n",
    "# Train the model\n",
    "xgboost_depdelay_model = xgboost_depdelay.fit(X_train, y_train)\n",
    "\n",
    "# Predictions\n",
    "y_pred_XGB_depdelay = xgboost_depdelay_model.predict(X_test)\n",
    "y_pred_proba_XGB_depdelay = xgboost_depdelay_model.predict_proba(X_test)[::,1]\n",
    "\n",
    "# RMSE\n",
    "rmse = np.sqrt(mean_squared_error(y_test, y_pred_XGB_depdelay))\n",
    "print('RMSE; %f' %(rmse))\n",
    "\n",
    "# XGBoost results (Confusion Matrix)\n",
    "confusion_matrix_classification(y_test, y_pred_XGB_depdelay, y_pred_proba_XGB_depdelay, 'XGBoost (No DepDelay)')"
   ]
  },
  {
   "cell_type": "code",
   "execution_count": 206,
   "metadata": {},
   "outputs": [
    {
     "data": {
      "text/html": [
       "<div>\n",
       "<style scoped>\n",
       "    .dataframe tbody tr th:only-of-type {\n",
       "        vertical-align: middle;\n",
       "    }\n",
       "\n",
       "    .dataframe tbody tr th {\n",
       "        vertical-align: top;\n",
       "    }\n",
       "\n",
       "    .dataframe thead th {\n",
       "        text-align: right;\n",
       "    }\n",
       "</style>\n",
       "<table border=\"1\" class=\"dataframe\">\n",
       "  <thead>\n",
       "    <tr style=\"text-align: right;\">\n",
       "      <th></th>\n",
       "      <th>Accuracy:</th>\n",
       "      <th>Precision:</th>\n",
       "      <th>Recall:</th>\n",
       "      <th>F1:</th>\n",
       "      <th>AUC:</th>\n",
       "    </tr>\n",
       "  </thead>\n",
       "  <tbody>\n",
       "    <tr>\n",
       "      <th>Classification Tree</th>\n",
       "      <td>0.857600</td>\n",
       "      <td>0.889484</td>\n",
       "      <td>0.885130</td>\n",
       "      <td>0.887302</td>\n",
       "      <td>0.847590</td>\n",
       "    </tr>\n",
       "    <tr>\n",
       "      <th>K-Nearest Neighbors</th>\n",
       "      <td>0.734950</td>\n",
       "      <td>0.797056</td>\n",
       "      <td>0.780129</td>\n",
       "      <td>0.788501</td>\n",
       "      <td>0.800260</td>\n",
       "    </tr>\n",
       "    <tr>\n",
       "      <th>Logistic Regression</th>\n",
       "      <td>0.847600</td>\n",
       "      <td>0.872391</td>\n",
       "      <td>0.889472</td>\n",
       "      <td>0.880849</td>\n",
       "      <td>0.929850</td>\n",
       "    </tr>\n",
       "    <tr>\n",
       "      <th>XGBoost</th>\n",
       "      <td>0.816500</td>\n",
       "      <td>0.822721</td>\n",
       "      <td>0.905341</td>\n",
       "      <td>0.862056</td>\n",
       "      <td>0.908923</td>\n",
       "    </tr>\n",
       "    <tr>\n",
       "      <th>Classification Tree (New Parameters)</th>\n",
       "      <td>0.834275</td>\n",
       "      <td>0.902167</td>\n",
       "      <td>0.828129</td>\n",
       "      <td>0.863564</td>\n",
       "      <td>0.907411</td>\n",
       "    </tr>\n",
       "    <tr>\n",
       "      <th>K-Nearest Neighbors (New Parameters)</th>\n",
       "      <td>0.775375</td>\n",
       "      <td>0.836019</td>\n",
       "      <td>0.802787</td>\n",
       "      <td>0.819066</td>\n",
       "      <td>0.765408</td>\n",
       "    </tr>\n",
       "    <tr>\n",
       "      <th>Logistic Regression (New Parameters)</th>\n",
       "      <td>0.889400</td>\n",
       "      <td>0.923825</td>\n",
       "      <td>0.899538</td>\n",
       "      <td>0.911520</td>\n",
       "      <td>0.958597</td>\n",
       "    </tr>\n",
       "    <tr>\n",
       "      <th>XGBoost (New Parameters)</th>\n",
       "      <td>0.904775</td>\n",
       "      <td>0.926285</td>\n",
       "      <td>0.923104</td>\n",
       "      <td>0.924692</td>\n",
       "      <td>0.969416</td>\n",
       "    </tr>\n",
       "    <tr>\n",
       "      <th>Classification Tree (X/Y)</th>\n",
       "      <td>1.000000</td>\n",
       "      <td>1.000000</td>\n",
       "      <td>1.000000</td>\n",
       "      <td>1.000000</td>\n",
       "      <td>1.000000</td>\n",
       "    </tr>\n",
       "    <tr>\n",
       "      <th>Logistic Regression (X/Y)</th>\n",
       "      <td>0.891325</td>\n",
       "      <td>0.924559</td>\n",
       "      <td>0.900927</td>\n",
       "      <td>0.912590</td>\n",
       "      <td>0.959763</td>\n",
       "    </tr>\n",
       "    <tr>\n",
       "      <th>Classification Tree (Feature Engiinering)</th>\n",
       "      <td>0.880141</td>\n",
       "      <td>0.878665</td>\n",
       "      <td>0.878806</td>\n",
       "      <td>0.878736</td>\n",
       "      <td>0.880126</td>\n",
       "    </tr>\n",
       "    <tr>\n",
       "      <th>K-Nearest Neighbors (Feature Engineering)</th>\n",
       "      <td>0.902315</td>\n",
       "      <td>0.934064</td>\n",
       "      <td>0.863260</td>\n",
       "      <td>0.897267</td>\n",
       "      <td>0.901864</td>\n",
       "    </tr>\n",
       "    <tr>\n",
       "      <th>Logistic Regression (Feature Engineering)</th>\n",
       "      <td>0.890265</td>\n",
       "      <td>0.915794</td>\n",
       "      <td>0.856712</td>\n",
       "      <td>0.885268</td>\n",
       "      <td>0.958550</td>\n",
       "    </tr>\n",
       "    <tr>\n",
       "      <th>XGBoost (Feature Enginnering)</th>\n",
       "      <td>0.920438</td>\n",
       "      <td>0.930036</td>\n",
       "      <td>0.907247</td>\n",
       "      <td>0.918500</td>\n",
       "      <td>0.980003</td>\n",
       "    </tr>\n",
       "    <tr>\n",
       "      <th>Classification Tree (No DepDelay)</th>\n",
       "      <td>0.689118</td>\n",
       "      <td>0.687335</td>\n",
       "      <td>0.680405</td>\n",
       "      <td>0.683852</td>\n",
       "      <td>0.689017</td>\n",
       "    </tr>\n",
       "    <tr>\n",
       "      <th>K-Nearest Neighbors (No DepDelay)</th>\n",
       "      <td>0.750079</td>\n",
       "      <td>0.790545</td>\n",
       "      <td>0.672411</td>\n",
       "      <td>0.726708</td>\n",
       "      <td>0.749183</td>\n",
       "    </tr>\n",
       "    <tr>\n",
       "      <th>Logistic Regression (No DepDelay)</th>\n",
       "      <td>0.662399</td>\n",
       "      <td>0.681036</td>\n",
       "      <td>0.595927</td>\n",
       "      <td>0.635645</td>\n",
       "      <td>0.714871</td>\n",
       "    </tr>\n",
       "    <tr>\n",
       "      <th>XGBoost (No DepDelay)</th>\n",
       "      <td>0.734258</td>\n",
       "      <td>0.781772</td>\n",
       "      <td>0.641239</td>\n",
       "      <td>0.704566</td>\n",
       "      <td>0.825558</td>\n",
       "    </tr>\n",
       "  </tbody>\n",
       "</table>\n",
       "</div>"
      ],
      "text/plain": [
       "                                           Accuracy:   Precision:   Recall:   \\\n",
       "Classification Tree                          0.857600     0.889484  0.885130   \n",
       "K-Nearest Neighbors                          0.734950     0.797056  0.780129   \n",
       "Logistic Regression                          0.847600     0.872391  0.889472   \n",
       "XGBoost                                      0.816500     0.822721  0.905341   \n",
       "Classification Tree (New Parameters)         0.834275     0.902167  0.828129   \n",
       "K-Nearest Neighbors (New Parameters)         0.775375     0.836019  0.802787   \n",
       "Logistic Regression (New Parameters)         0.889400     0.923825  0.899538   \n",
       "XGBoost (New Parameters)                     0.904775     0.926285  0.923104   \n",
       "Classification Tree (X/Y)                    1.000000     1.000000  1.000000   \n",
       "Logistic Regression (X/Y)                    0.891325     0.924559  0.900927   \n",
       "Classification Tree (Feature Engiinering)    0.880141     0.878665  0.878806   \n",
       "K-Nearest Neighbors (Feature Engineering)    0.902315     0.934064  0.863260   \n",
       "Logistic Regression (Feature Engineering)    0.890265     0.915794  0.856712   \n",
       "XGBoost (Feature Enginnering)                0.920438     0.930036  0.907247   \n",
       "Classification Tree (No DepDelay)            0.689118     0.687335  0.680405   \n",
       "K-Nearest Neighbors (No DepDelay)            0.750079     0.790545  0.672411   \n",
       "Logistic Regression (No DepDelay)            0.662399     0.681036  0.595927   \n",
       "XGBoost (No DepDelay)                        0.734258     0.781772  0.641239   \n",
       "\n",
       "                                               F1:      AUC:   \n",
       "Classification Tree                        0.887302  0.847590  \n",
       "K-Nearest Neighbors                        0.788501  0.800260  \n",
       "Logistic Regression                        0.880849  0.929850  \n",
       "XGBoost                                    0.862056  0.908923  \n",
       "Classification Tree (New Parameters)       0.863564  0.907411  \n",
       "K-Nearest Neighbors (New Parameters)       0.819066  0.765408  \n",
       "Logistic Regression (New Parameters)       0.911520  0.958597  \n",
       "XGBoost (New Parameters)                   0.924692  0.969416  \n",
       "Classification Tree (X/Y)                  1.000000  1.000000  \n",
       "Logistic Regression (X/Y)                  0.912590  0.959763  \n",
       "Classification Tree (Feature Engiinering)  0.878736  0.880126  \n",
       "K-Nearest Neighbors (Feature Engineering)  0.897267  0.901864  \n",
       "Logistic Regression (Feature Engineering)  0.885268  0.958550  \n",
       "XGBoost (Feature Enginnering)              0.918500  0.980003  \n",
       "Classification Tree (No DepDelay)          0.683852  0.689017  \n",
       "K-Nearest Neighbors (No DepDelay)          0.726708  0.749183  \n",
       "Logistic Regression (No DepDelay)          0.635645  0.714871  \n",
       "XGBoost (No DepDelay)                      0.704566  0.825558  "
      ]
     },
     "execution_count": 206,
     "metadata": {},
     "output_type": "execute_result"
    }
   ],
   "source": [
    "# Results\n",
    "comparing_classification_models"
   ]
  },
  {
   "cell_type": "markdown",
   "metadata": {},
   "source": [
    "ONCE WE HAVE REMOVED THE PREDICTOR VARIABLE **'DEPDELAY'** WE HAVE SEEN THAT THE CLASSIFICATION MODELS HAVE LOST A LOT OF PRECISION AND THIS IS BECAUSE THIS VARIABLE IS VERY GOOD TO EXPLAIN WHETHER AN AIRPLANE WILL ARRIVE LATE OR NOT AT ITS DESTINATION."
   ]
  },
  {
   "cell_type": "markdown",
   "metadata": {},
   "source": [
    "**CONCLUSIONS**\n",
    "\n",
    "+ IN THIS TASK WE HAVE BEEN ABLE TO LEARN DIFFERENT TYPES OF CLASSIFICATION ALGORITHMS, SOME MORE COMPLEX THAN OTHERS.\n",
    "\n",
    "+ IN THIS EXERCISE WE ARE INTERESTED IN MAKING THE FALSE NEGATIVES (FN) AS LOW AS POSSIBLE, BECAUSE IT IS NOT DESIRABLE TO PREDICT THAT AN AIRPLANE IS NOT GOING TO ARRIVE LATE WHEN IT IS GOING TO BE LATE.\n",
    "\n",
    "+ THE CLASSIFIER THAT HAS GIVEN THE BEST RESULTS HAS BEEN **XGBOOST**"
   ]
  },
  {
   "cell_type": "markdown",
   "metadata": {},
   "source": []
  },
  {
   "cell_type": "markdown",
   "metadata": {},
   "source": []
  }
 ],
 "metadata": {
  "interpreter": {
   "hash": "02db32ba26f57e17b15d45548c42ee83146269aaeef731891663e0d309015c55"
  },
  "kernelspec": {
   "display_name": "Python 3.8.8 ('base')",
   "language": "python",
   "name": "python3"
  },
  "language_info": {
   "codemirror_mode": {
    "name": "ipython",
    "version": 3
   },
   "file_extension": ".py",
   "mimetype": "text/x-python",
   "name": "python",
   "nbconvert_exporter": "python",
   "pygments_lexer": "ipython3",
   "version": "3.8.8"
  },
  "orig_nbformat": 4
 },
 "nbformat": 4,
 "nbformat_minor": 2
}
